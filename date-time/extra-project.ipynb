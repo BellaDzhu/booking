{
 "cells": [
  {
   "cell_type": "code",
   "execution_count": 1,
   "metadata": {},
   "outputs": [],
   "source": [
    "import pandas as pd"
   ]
  },
  {
   "cell_type": "markdown",
   "metadata": {},
   "source": [
    "#### 1. Считываем данные"
   ]
  },
  {
   "cell_type": "code",
   "execution_count": 36,
   "metadata": {},
   "outputs": [
    {
     "data": {
      "text/html": [
       "<div>\n",
       "<style scoped>\n",
       "    .dataframe tbody tr th:only-of-type {\n",
       "        vertical-align: middle;\n",
       "    }\n",
       "\n",
       "    .dataframe tbody tr th {\n",
       "        vertical-align: top;\n",
       "    }\n",
       "\n",
       "    .dataframe thead th {\n",
       "        text-align: right;\n",
       "    }\n",
       "</style>\n",
       "<table border=\"1\" class=\"dataframe\">\n",
       "  <thead>\n",
       "    <tr style=\"text-align: right;\">\n",
       "      <th></th>\n",
       "      <th>SUBS_ID</th>\n",
       "      <th>PROD_ID</th>\n",
       "      <th>START_DTTM</th>\n",
       "      <th>END_DTTM</th>\n",
       "    </tr>\n",
       "  </thead>\n",
       "  <tbody>\n",
       "    <tr>\n",
       "      <th>1</th>\n",
       "      <td>id4651830</td>\n",
       "      <td>1954</td>\n",
       "      <td>20-03-2020 14:59</td>\n",
       "      <td>01-12-2020 00:00</td>\n",
       "    </tr>\n",
       "    <tr>\n",
       "      <th>5</th>\n",
       "      <td>id7646509</td>\n",
       "      <td>6431</td>\n",
       "      <td>19-03-2020 13:00</td>\n",
       "      <td>19-03-2020 13:03</td>\n",
       "    </tr>\n",
       "    <tr>\n",
       "      <th>2</th>\n",
       "      <td>id7461794</td>\n",
       "      <td>3310</td>\n",
       "      <td>20-03-2020 17:25</td>\n",
       "      <td>01-12-2020 00:00</td>\n",
       "    </tr>\n",
       "    <tr>\n",
       "      <th>3</th>\n",
       "      <td>id5416547</td>\n",
       "      <td>1743</td>\n",
       "      <td>17-03-2020 10:17</td>\n",
       "      <td>25-03-2020 11:00</td>\n",
       "    </tr>\n",
       "    <tr>\n",
       "      <th>4</th>\n",
       "      <td>id8238421</td>\n",
       "      <td>1859</td>\n",
       "      <td>01-03-2020 11:42</td>\n",
       "      <td>01-03-2020 11:43</td>\n",
       "    </tr>\n",
       "    <tr>\n",
       "      <th>3</th>\n",
       "      <td>id8641743</td>\n",
       "      <td>2752</td>\n",
       "      <td>20-03-2020 15:44</td>\n",
       "      <td>21-04-2020 15:44</td>\n",
       "    </tr>\n",
       "    <tr>\n",
       "      <th>2</th>\n",
       "      <td>id2185490</td>\n",
       "      <td>3210</td>\n",
       "      <td>16-03-2020 16:28</td>\n",
       "      <td>01-12-2020 00:00</td>\n",
       "    </tr>\n",
       "    <tr>\n",
       "      <th>6</th>\n",
       "      <td>id7642700</td>\n",
       "      <td>3020</td>\n",
       "      <td>15-03-2020 14:21</td>\n",
       "      <td>15-03-2020 23:42</td>\n",
       "    </tr>\n",
       "    <tr>\n",
       "      <th>2</th>\n",
       "      <td>id8741631</td>\n",
       "      <td>5677</td>\n",
       "      <td>19-03-2020 12:28</td>\n",
       "      <td>01-12-2020 00:00</td>\n",
       "    </tr>\n",
       "  </tbody>\n",
       "</table>\n",
       "</div>"
      ],
      "text/plain": [
       "     SUBS_ID  PROD_ID        START_DTTM          END_DTTM\n",
       "1  id4651830     1954  20-03-2020 14:59  01-12-2020 00:00\n",
       "5  id7646509     6431  19-03-2020 13:00  19-03-2020 13:03\n",
       "2  id7461794     3310  20-03-2020 17:25  01-12-2020 00:00\n",
       "3  id5416547     1743  17-03-2020 10:17  25-03-2020 11:00\n",
       "4  id8238421     1859  01-03-2020 11:42  01-03-2020 11:43\n",
       "3  id8641743     2752  20-03-2020 15:44  21-04-2020 15:44\n",
       "2  id2185490     3210  16-03-2020 16:28  01-12-2020 00:00\n",
       "6  id7642700     3020  15-03-2020 14:21  15-03-2020 23:42\n",
       "2  id8741631     5677  19-03-2020 12:28  01-12-2020 00:00"
      ]
     },
     "execution_count": 36,
     "metadata": {},
     "output_type": "execute_result"
    }
   ],
   "source": [
    "prod_activations_logs = pd.read_csv('/mnt/HC_Volume_18315164/home-jupyter/jupyter-b-dzhumaeva-37/shared/homeworks/python_ds_miniprojects/5_subsid/subsid/prod_activations_logs.csv', sep = ';')\n",
    "prod_activations_logs"
   ]
  },
  {
   "cell_type": "code",
   "execution_count": 10,
   "metadata": {},
   "outputs": [],
   "source": [
    "df1 = pd.read_csv('/mnt/HC_Volume_18315164/home-jupyter/jupyter-b-dzhumaeva-37/shared/homeworks/python_ds_miniprojects/5_subsid/subsid/tm_sales_1.csv', sep = ';')"
   ]
  },
  {
   "cell_type": "code",
   "execution_count": 11,
   "metadata": {},
   "outputs": [],
   "source": [
    "df2= pd.read_csv('/mnt/HC_Volume_18315164/home-jupyter/jupyter-b-dzhumaeva-37/shared/homeworks/python_ds_miniprojects/5_subsid/subsid/tm_sales_2.csv', sep = ';')"
   ]
  },
  {
   "cell_type": "code",
   "execution_count": 12,
   "metadata": {},
   "outputs": [],
   "source": [
    "df3 = pd.read_csv('/mnt/HC_Volume_18315164/home-jupyter/jupyter-b-dzhumaeva-37/shared/homeworks/python_ds_miniprojects/5_subsid/subsid/tm_sales_3.csv', sep = ';')"
   ]
  },
  {
   "cell_type": "code",
   "execution_count": 13,
   "metadata": {},
   "outputs": [
    {
     "data": {
      "text/html": [
       "<div>\n",
       "<style scoped>\n",
       "    .dataframe tbody tr th:only-of-type {\n",
       "        vertical-align: middle;\n",
       "    }\n",
       "\n",
       "    .dataframe tbody tr th {\n",
       "        vertical-align: top;\n",
       "    }\n",
       "\n",
       "    .dataframe thead th {\n",
       "        text-align: right;\n",
       "    }\n",
       "</style>\n",
       "<table border=\"1\" class=\"dataframe\">\n",
       "  <thead>\n",
       "    <tr style=\"text-align: right;\">\n",
       "      <th></th>\n",
       "      <th>SUBS_ID</th>\n",
       "      <th>FILIAL_ID</th>\n",
       "      <th>PROD_ID</th>\n",
       "      <th>ACT_DTTM</th>\n",
       "    </tr>\n",
       "  </thead>\n",
       "  <tbody>\n",
       "    <tr>\n",
       "      <th>0</th>\n",
       "      <td>id4651830</td>\n",
       "      <td>1</td>\n",
       "      <td>1954</td>\n",
       "      <td>20-03-2020 14:59</td>\n",
       "    </tr>\n",
       "    <tr>\n",
       "      <th>1</th>\n",
       "      <td>7646509</td>\n",
       "      <td>5</td>\n",
       "      <td>6431</td>\n",
       "      <td>19-03-2020 13:00</td>\n",
       "    </tr>\n",
       "    <tr>\n",
       "      <th>2</th>\n",
       "      <td>id7412683</td>\n",
       "      <td>4</td>\n",
       "      <td>3313</td>\n",
       "      <td>22-03-2020 17:25</td>\n",
       "    </tr>\n",
       "    <tr>\n",
       "      <th>3</th>\n",
       "      <td>id5416547</td>\n",
       "      <td>3</td>\n",
       "      <td>1743</td>\n",
       "      <td>17-03-2020 10:17</td>\n",
       "    </tr>\n",
       "    <tr>\n",
       "      <th>4</th>\n",
       "      <td>NaN</td>\n",
       "      <td>4</td>\n",
       "      <td>7421</td>\n",
       "      <td>12-03-2020 11:25</td>\n",
       "    </tr>\n",
       "  </tbody>\n",
       "</table>\n",
       "</div>"
      ],
      "text/plain": [
       "     SUBS_ID  FILIAL_ID  PROD_ID          ACT_DTTM\n",
       "0  id4651830          1     1954  20-03-2020 14:59\n",
       "1    7646509          5     6431  19-03-2020 13:00\n",
       "2  id7412683          4     3313  22-03-2020 17:25\n",
       "3  id5416547          3     1743  17-03-2020 10:17\n",
       "4        NaN          4     7421  12-03-2020 11:25"
      ]
     },
     "execution_count": 13,
     "metadata": {},
     "output_type": "execute_result"
    }
   ],
   "source": [
    "df_full = pd.concat([ df1, df2, df3],ignore_index=True)\n",
    "df_full.head()"
   ]
  },
  {
   "cell_type": "markdown",
   "metadata": {},
   "source": [
    "#### 2. Cотрудники телемаркетинга не всегда указывают полный id, если 'id' нет в начале SUBS_ID, то нужно его добавить. 3.  Если в файле с продажами встречается строка без указанного SUBS_ID, она пропускается"
   ]
  },
  {
   "cell_type": "code",
   "execution_count": 14,
   "metadata": {},
   "outputs": [
    {
     "data": {
      "text/plain": [
       "(10, 4)"
      ]
     },
     "execution_count": 14,
     "metadata": {},
     "output_type": "execute_result"
    }
   ],
   "source": [
    "df_full.shape"
   ]
  },
  {
   "cell_type": "code",
   "execution_count": 20,
   "metadata": {},
   "outputs": [
    {
     "data": {
      "text/html": [
       "<div>\n",
       "<style scoped>\n",
       "    .dataframe tbody tr th:only-of-type {\n",
       "        vertical-align: middle;\n",
       "    }\n",
       "\n",
       "    .dataframe tbody tr th {\n",
       "        vertical-align: top;\n",
       "    }\n",
       "\n",
       "    .dataframe thead th {\n",
       "        text-align: right;\n",
       "    }\n",
       "</style>\n",
       "<table border=\"1\" class=\"dataframe\">\n",
       "  <thead>\n",
       "    <tr style=\"text-align: right;\">\n",
       "      <th></th>\n",
       "      <th>SUBS_ID</th>\n",
       "      <th>FILIAL_ID</th>\n",
       "      <th>PROD_ID</th>\n",
       "      <th>ACT_DTTM</th>\n",
       "    </tr>\n",
       "  </thead>\n",
       "  <tbody>\n",
       "    <tr>\n",
       "      <th>0</th>\n",
       "      <td>id4651830</td>\n",
       "      <td>1</td>\n",
       "      <td>1954</td>\n",
       "      <td>20-03-2020 14:59</td>\n",
       "    </tr>\n",
       "    <tr>\n",
       "      <th>1</th>\n",
       "      <td>7646509</td>\n",
       "      <td>5</td>\n",
       "      <td>6431</td>\n",
       "      <td>19-03-2020 13:00</td>\n",
       "    </tr>\n",
       "    <tr>\n",
       "      <th>2</th>\n",
       "      <td>id7412683</td>\n",
       "      <td>4</td>\n",
       "      <td>3313</td>\n",
       "      <td>22-03-2020 17:25</td>\n",
       "    </tr>\n",
       "    <tr>\n",
       "      <th>3</th>\n",
       "      <td>id5416547</td>\n",
       "      <td>3</td>\n",
       "      <td>1743</td>\n",
       "      <td>17-03-2020 10:17</td>\n",
       "    </tr>\n",
       "    <tr>\n",
       "      <th>5</th>\n",
       "      <td>8362218</td>\n",
       "      <td>7</td>\n",
       "      <td>9879</td>\n",
       "      <td>05-03-2020 11:42</td>\n",
       "    </tr>\n",
       "    <tr>\n",
       "      <th>6</th>\n",
       "      <td>2185490</td>\n",
       "      <td>2</td>\n",
       "      <td>3210</td>\n",
       "      <td>16-03-2020 16:28</td>\n",
       "    </tr>\n",
       "    <tr>\n",
       "      <th>7</th>\n",
       "      <td>id5764122</td>\n",
       "      <td>3</td>\n",
       "      <td>1499</td>\n",
       "      <td>18-03-2020 15:44</td>\n",
       "    </tr>\n",
       "    <tr>\n",
       "      <th>8</th>\n",
       "      <td>id7642700</td>\n",
       "      <td>6</td>\n",
       "      <td>3020</td>\n",
       "      <td>15-03-2020 14:21</td>\n",
       "    </tr>\n",
       "    <tr>\n",
       "      <th>9</th>\n",
       "      <td>id1374509</td>\n",
       "      <td>2</td>\n",
       "      <td>5677</td>\n",
       "      <td>17-03-2020 11:48</td>\n",
       "    </tr>\n",
       "  </tbody>\n",
       "</table>\n",
       "</div>"
      ],
      "text/plain": [
       "     SUBS_ID  FILIAL_ID  PROD_ID          ACT_DTTM\n",
       "0  id4651830          1     1954  20-03-2020 14:59\n",
       "1    7646509          5     6431  19-03-2020 13:00\n",
       "2  id7412683          4     3313  22-03-2020 17:25\n",
       "3  id5416547          3     1743  17-03-2020 10:17\n",
       "5    8362218          7     9879  05-03-2020 11:42\n",
       "6    2185490          2     3210  16-03-2020 16:28\n",
       "7  id5764122          3     1499  18-03-2020 15:44\n",
       "8  id7642700          6     3020  15-03-2020 14:21\n",
       "9  id1374509          2     5677  17-03-2020 11:48"
      ]
     },
     "execution_count": 20,
     "metadata": {},
     "output_type": "execute_result"
    }
   ],
   "source": [
    "df_full = df_full.dropna(subset=['SUBS_ID'])\n",
    "df_full #пропускаем данные без указанного SUBS_ID"
   ]
  },
  {
   "cell_type": "code",
   "execution_count": 21,
   "metadata": {},
   "outputs": [],
   "source": [
    "def add_id(str_id):\n",
    "    if not str_id.startswith('id'):\n",
    "        str_id = 'id'+ str_id\n",
    "        return str_id\n",
    "    else:\n",
    "        return str_id"
   ]
  },
  {
   "cell_type": "code",
   "execution_count": 22,
   "metadata": {},
   "outputs": [],
   "source": [
    "df_full.SUBS_ID = df_full.SUBS_ID.apply(add_id)"
   ]
  },
  {
   "cell_type": "code",
   "execution_count": 40,
   "metadata": {},
   "outputs": [
    {
     "data": {
      "text/html": [
       "<div>\n",
       "<style scoped>\n",
       "    .dataframe tbody tr th:only-of-type {\n",
       "        vertical-align: middle;\n",
       "    }\n",
       "\n",
       "    .dataframe tbody tr th {\n",
       "        vertical-align: top;\n",
       "    }\n",
       "\n",
       "    .dataframe thead th {\n",
       "        text-align: right;\n",
       "    }\n",
       "</style>\n",
       "<table border=\"1\" class=\"dataframe\">\n",
       "  <thead>\n",
       "    <tr style=\"text-align: right;\">\n",
       "      <th></th>\n",
       "      <th>SUBS_ID</th>\n",
       "      <th>FILIAL_ID</th>\n",
       "      <th>PROD_ID</th>\n",
       "      <th>ACT_DTTM</th>\n",
       "    </tr>\n",
       "  </thead>\n",
       "  <tbody>\n",
       "    <tr>\n",
       "      <th>0</th>\n",
       "      <td>id4651830</td>\n",
       "      <td>1</td>\n",
       "      <td>1954</td>\n",
       "      <td>20-03-2020 14:59</td>\n",
       "    </tr>\n",
       "    <tr>\n",
       "      <th>1</th>\n",
       "      <td>id7646509</td>\n",
       "      <td>5</td>\n",
       "      <td>6431</td>\n",
       "      <td>19-03-2020 13:00</td>\n",
       "    </tr>\n",
       "    <tr>\n",
       "      <th>2</th>\n",
       "      <td>id7412683</td>\n",
       "      <td>4</td>\n",
       "      <td>3313</td>\n",
       "      <td>22-03-2020 17:25</td>\n",
       "    </tr>\n",
       "    <tr>\n",
       "      <th>3</th>\n",
       "      <td>id5416547</td>\n",
       "      <td>3</td>\n",
       "      <td>1743</td>\n",
       "      <td>17-03-2020 10:17</td>\n",
       "    </tr>\n",
       "    <tr>\n",
       "      <th>5</th>\n",
       "      <td>id8362218</td>\n",
       "      <td>7</td>\n",
       "      <td>9879</td>\n",
       "      <td>05-03-2020 11:42</td>\n",
       "    </tr>\n",
       "    <tr>\n",
       "      <th>6</th>\n",
       "      <td>id2185490</td>\n",
       "      <td>2</td>\n",
       "      <td>3210</td>\n",
       "      <td>16-03-2020 16:28</td>\n",
       "    </tr>\n",
       "    <tr>\n",
       "      <th>7</th>\n",
       "      <td>id5764122</td>\n",
       "      <td>3</td>\n",
       "      <td>1499</td>\n",
       "      <td>18-03-2020 15:44</td>\n",
       "    </tr>\n",
       "    <tr>\n",
       "      <th>8</th>\n",
       "      <td>id7642700</td>\n",
       "      <td>6</td>\n",
       "      <td>3020</td>\n",
       "      <td>15-03-2020 14:21</td>\n",
       "    </tr>\n",
       "    <tr>\n",
       "      <th>9</th>\n",
       "      <td>id1374509</td>\n",
       "      <td>2</td>\n",
       "      <td>5677</td>\n",
       "      <td>17-03-2020 11:48</td>\n",
       "    </tr>\n",
       "  </tbody>\n",
       "</table>\n",
       "</div>"
      ],
      "text/plain": [
       "     SUBS_ID  FILIAL_ID  PROD_ID          ACT_DTTM\n",
       "0  id4651830          1     1954  20-03-2020 14:59\n",
       "1  id7646509          5     6431  19-03-2020 13:00\n",
       "2  id7412683          4     3313  22-03-2020 17:25\n",
       "3  id5416547          3     1743  17-03-2020 10:17\n",
       "5  id8362218          7     9879  05-03-2020 11:42\n",
       "6  id2185490          2     3210  16-03-2020 16:28\n",
       "7  id5764122          3     1499  18-03-2020 15:44\n",
       "8  id7642700          6     3020  15-03-2020 14:21\n",
       "9  id1374509          2     5677  17-03-2020 11:48"
      ]
     },
     "execution_count": 40,
     "metadata": {},
     "output_type": "execute_result"
    }
   ],
   "source": [
    "df_full"
   ]
  },
  {
   "cell_type": "code",
   "execution_count": null,
   "metadata": {},
   "outputs": [],
   "source": [
    "df_final = prod_activation_logs.merge(df_full, on=['SUBS_ID', 'PROD_ID'])\n",
    "df_final"
   ]
  },
  {
   "cell_type": "code",
   "execution_count": 22,
   "metadata": {},
   "outputs": [
    {
     "data": {
      "text/plain": [
       "SUBS_ID       object\n",
       "FILIAL_ID      int64\n",
       "PROD_ID        int64\n",
       "ACT_DTTM      object\n",
       "START_DTTM    object\n",
       "END_DTTM      object\n",
       "dtype: object"
      ]
     },
     "execution_count": 22,
     "metadata": {},
     "output_type": "execute_result"
    }
   ],
   "source": [
    "df_final.dtypes"
   ]
  },
  {
   "cell_type": "code",
   "execution_count": 24,
   "metadata": {},
   "outputs": [
    {
     "data": {
      "text/plain": [
       "0   2020-03-20 14:59:00\n",
       "1   2020-03-19 13:00:00\n",
       "2   2020-03-17 10:17:00\n",
       "3   2020-03-16 16:28:00\n",
       "4   2020-03-15 14:21:00\n",
       "Name: START_DTTM, dtype: datetime64[ns]"
      ]
     },
     "execution_count": 24,
     "metadata": {},
     "output_type": "execute_result"
    }
   ],
   "source": [
    "pd.to_datetime(df_final.START_DTTM)"
   ]
  },
  {
   "cell_type": "code",
   "execution_count": 25,
   "metadata": {},
   "outputs": [],
   "source": [
    "df_final.START_DTTM = pd.to_datetime(df_final.START_DTTM)"
   ]
  },
  {
   "cell_type": "code",
   "execution_count": 26,
   "metadata": {},
   "outputs": [
    {
     "data": {
      "text/plain": [
       "0   2020-01-12 00:00:00\n",
       "1   2020-03-19 13:03:00\n",
       "2   2020-03-25 11:00:00\n",
       "3   2020-01-12 00:00:00\n",
       "4   2020-03-15 23:42:00\n",
       "Name: END_DTTM, dtype: datetime64[ns]"
      ]
     },
     "execution_count": 26,
     "metadata": {},
     "output_type": "execute_result"
    }
   ],
   "source": [
    "pd.to_datetime(df_final.END_DTTM)"
   ]
  },
  {
   "cell_type": "code",
   "execution_count": 27,
   "metadata": {},
   "outputs": [],
   "source": [
    "df_final.END_DTTM = pd.to_datetime(df_final.END_DTTM, format='%d-%m-%Y %H:%M')"
   ]
  },
  {
   "cell_type": "code",
   "execution_count": 28,
   "metadata": {
    "scrolled": true
   },
   "outputs": [
    {
     "data": {
      "text/plain": [
       "SUBS_ID               object\n",
       "FILIAL_ID              int64\n",
       "PROD_ID                int64\n",
       "ACT_DTTM              object\n",
       "START_DTTM    datetime64[ns]\n",
       "END_DTTM      datetime64[ns]\n",
       "dtype: object"
      ]
     },
     "execution_count": 28,
     "metadata": {},
     "output_type": "execute_result"
    }
   ],
   "source": [
    "df_final.dtypes"
   ]
  },
  {
   "cell_type": "code",
   "execution_count": 29,
   "metadata": {},
   "outputs": [
    {
     "data": {
      "text/html": [
       "<div>\n",
       "<style scoped>\n",
       "    .dataframe tbody tr th:only-of-type {\n",
       "        vertical-align: middle;\n",
       "    }\n",
       "\n",
       "    .dataframe tbody tr th {\n",
       "        vertical-align: top;\n",
       "    }\n",
       "\n",
       "    .dataframe thead th {\n",
       "        text-align: right;\n",
       "    }\n",
       "</style>\n",
       "<table border=\"1\" class=\"dataframe\">\n",
       "  <thead>\n",
       "    <tr style=\"text-align: right;\">\n",
       "      <th></th>\n",
       "      <th>SUBS_ID</th>\n",
       "      <th>FILIAL_ID</th>\n",
       "      <th>PROD_ID</th>\n",
       "      <th>ACT_DTTM</th>\n",
       "      <th>START_DTTM</th>\n",
       "      <th>END_DTTM</th>\n",
       "    </tr>\n",
       "  </thead>\n",
       "  <tbody>\n",
       "    <tr>\n",
       "      <th>0</th>\n",
       "      <td>id4651830</td>\n",
       "      <td>1</td>\n",
       "      <td>1954</td>\n",
       "      <td>20-03-2020 14:59</td>\n",
       "      <td>2020-03-20 14:59:00</td>\n",
       "      <td>2020-12-01 00:00:00</td>\n",
       "    </tr>\n",
       "    <tr>\n",
       "      <th>1</th>\n",
       "      <td>id7646509</td>\n",
       "      <td>5</td>\n",
       "      <td>6431</td>\n",
       "      <td>19-03-2020 13:00</td>\n",
       "      <td>2020-03-19 13:00:00</td>\n",
       "      <td>2020-03-19 13:03:00</td>\n",
       "    </tr>\n",
       "    <tr>\n",
       "      <th>2</th>\n",
       "      <td>id5416547</td>\n",
       "      <td>3</td>\n",
       "      <td>1743</td>\n",
       "      <td>17-03-2020 10:17</td>\n",
       "      <td>2020-03-17 10:17:00</td>\n",
       "      <td>2020-03-25 11:00:00</td>\n",
       "    </tr>\n",
       "    <tr>\n",
       "      <th>3</th>\n",
       "      <td>id2185490</td>\n",
       "      <td>2</td>\n",
       "      <td>3210</td>\n",
       "      <td>16-03-2020 16:28</td>\n",
       "      <td>2020-03-16 16:28:00</td>\n",
       "      <td>2020-12-01 00:00:00</td>\n",
       "    </tr>\n",
       "    <tr>\n",
       "      <th>4</th>\n",
       "      <td>id7642700</td>\n",
       "      <td>6</td>\n",
       "      <td>3020</td>\n",
       "      <td>15-03-2020 14:21</td>\n",
       "      <td>2020-03-15 14:21:00</td>\n",
       "      <td>2020-03-15 23:42:00</td>\n",
       "    </tr>\n",
       "  </tbody>\n",
       "</table>\n",
       "</div>"
      ],
      "text/plain": [
       "     SUBS_ID  FILIAL_ID  PROD_ID          ACT_DTTM          START_DTTM  \\\n",
       "0  id4651830          1     1954  20-03-2020 14:59 2020-03-20 14:59:00   \n",
       "1  id7646509          5     6431  19-03-2020 13:00 2020-03-19 13:00:00   \n",
       "2  id5416547          3     1743  17-03-2020 10:17 2020-03-17 10:17:00   \n",
       "3  id2185490          2     3210  16-03-2020 16:28 2020-03-16 16:28:00   \n",
       "4  id7642700          6     3020  15-03-2020 14:21 2020-03-15 14:21:00   \n",
       "\n",
       "             END_DTTM  \n",
       "0 2020-12-01 00:00:00  \n",
       "1 2020-03-19 13:03:00  \n",
       "2 2020-03-25 11:00:00  \n",
       "3 2020-12-01 00:00:00  \n",
       "4 2020-03-15 23:42:00  "
      ]
     },
     "execution_count": 29,
     "metadata": {},
     "output_type": "execute_result"
    }
   ],
   "source": [
    "df_final"
   ]
  },
  {
   "cell_type": "code",
   "execution_count": 30,
   "metadata": {},
   "outputs": [],
   "source": [
    "df_final['time'] = df_final.END_DTTM - df_final.START_DTTM #считаем разницу"
   ]
  },
  {
   "cell_type": "code",
   "execution_count": 31,
   "metadata": {},
   "outputs": [
    {
     "data": {
      "text/html": [
       "<div>\n",
       "<style scoped>\n",
       "    .dataframe tbody tr th:only-of-type {\n",
       "        vertical-align: middle;\n",
       "    }\n",
       "\n",
       "    .dataframe tbody tr th {\n",
       "        vertical-align: top;\n",
       "    }\n",
       "\n",
       "    .dataframe thead th {\n",
       "        text-align: right;\n",
       "    }\n",
       "</style>\n",
       "<table border=\"1\" class=\"dataframe\">\n",
       "  <thead>\n",
       "    <tr style=\"text-align: right;\">\n",
       "      <th></th>\n",
       "      <th>SUBS_ID</th>\n",
       "      <th>FILIAL_ID</th>\n",
       "      <th>PROD_ID</th>\n",
       "      <th>ACT_DTTM</th>\n",
       "      <th>START_DTTM</th>\n",
       "      <th>END_DTTM</th>\n",
       "      <th>time</th>\n",
       "    </tr>\n",
       "  </thead>\n",
       "  <tbody>\n",
       "    <tr>\n",
       "      <th>0</th>\n",
       "      <td>id4651830</td>\n",
       "      <td>1</td>\n",
       "      <td>1954</td>\n",
       "      <td>20-03-2020 14:59</td>\n",
       "      <td>2020-03-20 14:59:00</td>\n",
       "      <td>2020-12-01 00:00:00</td>\n",
       "      <td>255 days 09:01:00</td>\n",
       "    </tr>\n",
       "    <tr>\n",
       "      <th>1</th>\n",
       "      <td>id7646509</td>\n",
       "      <td>5</td>\n",
       "      <td>6431</td>\n",
       "      <td>19-03-2020 13:00</td>\n",
       "      <td>2020-03-19 13:00:00</td>\n",
       "      <td>2020-03-19 13:03:00</td>\n",
       "      <td>0 days 00:03:00</td>\n",
       "    </tr>\n",
       "    <tr>\n",
       "      <th>2</th>\n",
       "      <td>id5416547</td>\n",
       "      <td>3</td>\n",
       "      <td>1743</td>\n",
       "      <td>17-03-2020 10:17</td>\n",
       "      <td>2020-03-17 10:17:00</td>\n",
       "      <td>2020-03-25 11:00:00</td>\n",
       "      <td>8 days 00:43:00</td>\n",
       "    </tr>\n",
       "    <tr>\n",
       "      <th>3</th>\n",
       "      <td>id2185490</td>\n",
       "      <td>2</td>\n",
       "      <td>3210</td>\n",
       "      <td>16-03-2020 16:28</td>\n",
       "      <td>2020-03-16 16:28:00</td>\n",
       "      <td>2020-12-01 00:00:00</td>\n",
       "      <td>259 days 07:32:00</td>\n",
       "    </tr>\n",
       "    <tr>\n",
       "      <th>4</th>\n",
       "      <td>id7642700</td>\n",
       "      <td>6</td>\n",
       "      <td>3020</td>\n",
       "      <td>15-03-2020 14:21</td>\n",
       "      <td>2020-03-15 14:21:00</td>\n",
       "      <td>2020-03-15 23:42:00</td>\n",
       "      <td>0 days 09:21:00</td>\n",
       "    </tr>\n",
       "  </tbody>\n",
       "</table>\n",
       "</div>"
      ],
      "text/plain": [
       "     SUBS_ID  FILIAL_ID  PROD_ID          ACT_DTTM          START_DTTM  \\\n",
       "0  id4651830          1     1954  20-03-2020 14:59 2020-03-20 14:59:00   \n",
       "1  id7646509          5     6431  19-03-2020 13:00 2020-03-19 13:00:00   \n",
       "2  id5416547          3     1743  17-03-2020 10:17 2020-03-17 10:17:00   \n",
       "3  id2185490          2     3210  16-03-2020 16:28 2020-03-16 16:28:00   \n",
       "4  id7642700          6     3020  15-03-2020 14:21 2020-03-15 14:21:00   \n",
       "\n",
       "             END_DTTM              time  \n",
       "0 2020-12-01 00:00:00 255 days 09:01:00  \n",
       "1 2020-03-19 13:03:00   0 days 00:03:00  \n",
       "2 2020-03-25 11:00:00   8 days 00:43:00  \n",
       "3 2020-12-01 00:00:00 259 days 07:32:00  \n",
       "4 2020-03-15 23:42:00   0 days 09:21:00  "
      ]
     },
     "execution_count": 31,
     "metadata": {},
     "output_type": "execute_result"
    }
   ],
   "source": [
    "df_final"
   ]
  },
  {
   "cell_type": "code",
   "execution_count": 32,
   "metadata": {},
   "outputs": [],
   "source": [
    "df_result = df_final.query(\"time >'5m'\")"
   ]
  },
  {
   "cell_type": "code",
   "execution_count": 34,
   "metadata": {},
   "outputs": [
    {
     "data": {
      "text/html": [
       "<div>\n",
       "<style scoped>\n",
       "    .dataframe tbody tr th:only-of-type {\n",
       "        vertical-align: middle;\n",
       "    }\n",
       "\n",
       "    .dataframe tbody tr th {\n",
       "        vertical-align: top;\n",
       "    }\n",
       "\n",
       "    .dataframe thead th {\n",
       "        text-align: right;\n",
       "    }\n",
       "</style>\n",
       "<table border=\"1\" class=\"dataframe\">\n",
       "  <thead>\n",
       "    <tr style=\"text-align: right;\">\n",
       "      <th></th>\n",
       "      <th>SUBS_ID</th>\n",
       "      <th>FILIAL_ID</th>\n",
       "      <th>PROD_ID</th>\n",
       "      <th>ACT_DTTM</th>\n",
       "      <th>START_DTTM</th>\n",
       "      <th>END_DTTM</th>\n",
       "      <th>time</th>\n",
       "    </tr>\n",
       "  </thead>\n",
       "  <tbody>\n",
       "    <tr>\n",
       "      <th>0</th>\n",
       "      <td>id4651830</td>\n",
       "      <td>1</td>\n",
       "      <td>1954</td>\n",
       "      <td>20-03-2020 14:59</td>\n",
       "      <td>2020-03-20 14:59:00</td>\n",
       "      <td>2020-12-01 00:00:00</td>\n",
       "      <td>255 days 09:01:00</td>\n",
       "    </tr>\n",
       "    <tr>\n",
       "      <th>2</th>\n",
       "      <td>id5416547</td>\n",
       "      <td>3</td>\n",
       "      <td>1743</td>\n",
       "      <td>17-03-2020 10:17</td>\n",
       "      <td>2020-03-17 10:17:00</td>\n",
       "      <td>2020-03-25 11:00:00</td>\n",
       "      <td>8 days 00:43:00</td>\n",
       "    </tr>\n",
       "    <tr>\n",
       "      <th>3</th>\n",
       "      <td>id2185490</td>\n",
       "      <td>2</td>\n",
       "      <td>3210</td>\n",
       "      <td>16-03-2020 16:28</td>\n",
       "      <td>2020-03-16 16:28:00</td>\n",
       "      <td>2020-12-01 00:00:00</td>\n",
       "      <td>259 days 07:32:00</td>\n",
       "    </tr>\n",
       "    <tr>\n",
       "      <th>4</th>\n",
       "      <td>id7642700</td>\n",
       "      <td>6</td>\n",
       "      <td>3020</td>\n",
       "      <td>15-03-2020 14:21</td>\n",
       "      <td>2020-03-15 14:21:00</td>\n",
       "      <td>2020-03-15 23:42:00</td>\n",
       "      <td>0 days 09:21:00</td>\n",
       "    </tr>\n",
       "  </tbody>\n",
       "</table>\n",
       "</div>"
      ],
      "text/plain": [
       "     SUBS_ID  FILIAL_ID  PROD_ID          ACT_DTTM          START_DTTM  \\\n",
       "0  id4651830          1     1954  20-03-2020 14:59 2020-03-20 14:59:00   \n",
       "2  id5416547          3     1743  17-03-2020 10:17 2020-03-17 10:17:00   \n",
       "3  id2185490          2     3210  16-03-2020 16:28 2020-03-16 16:28:00   \n",
       "4  id7642700          6     3020  15-03-2020 14:21 2020-03-15 14:21:00   \n",
       "\n",
       "             END_DTTM              time  \n",
       "0 2020-12-01 00:00:00 255 days 09:01:00  \n",
       "2 2020-03-25 11:00:00   8 days 00:43:00  \n",
       "3 2020-12-01 00:00:00 259 days 07:32:00  \n",
       "4 2020-03-15 23:42:00   0 days 09:21:00  "
      ]
     },
     "execution_count": 34,
     "metadata": {},
     "output_type": "execute_result"
    }
   ],
   "source": [
    "df_result"
   ]
  },
  {
   "cell_type": "markdown",
   "metadata": {},
   "source": [
    "#### Для проверки результатов выведем SUBS_ID из полученного датасета в порядке возрастания"
   ]
  },
  {
   "cell_type": "code",
   "execution_count": 36,
   "metadata": {},
   "outputs": [
    {
     "data": {
      "text/plain": [
       "array(['id2185490', 'id4651830', 'id5416547', 'id7642700'], dtype=object)"
      ]
     },
     "execution_count": 36,
     "metadata": {},
     "output_type": "execute_result"
    }
   ],
   "source": [
    "df_result.SUBS_ID.sort_values().values"
   ]
  },
  {
   "cell_type": "markdown",
   "metadata": {},
   "source": [
    "#### Сохраняем результат в csv файл с разделителем ;, содержащий корректные подключения"
   ]
  },
  {
   "cell_type": "code",
   "execution_count": 37,
   "metadata": {},
   "outputs": [],
   "source": [
    "df_result.to_csv('result.csv', index=False)"
   ]
  },
  {
   "cell_type": "code",
   "execution_count": null,
   "metadata": {},
   "outputs": [],
   "source": []
  }
 ],
 "metadata": {
  "kernelspec": {
   "display_name": "Python 3",
   "language": "python",
   "name": "python3"
  },
  "language_info": {
   "codemirror_mode": {
    "name": "ipython",
    "version": 3
   },
   "file_extension": ".py",
   "mimetype": "text/x-python",
   "name": "python",
   "nbconvert_exporter": "python",
   "pygments_lexer": "ipython3",
   "version": "3.7.3"
  }
 },
 "nbformat": 4,
 "nbformat_minor": 4
}
