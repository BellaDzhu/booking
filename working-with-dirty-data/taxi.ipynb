{
 "cells": [
  {
   "cell_type": "markdown",
   "metadata": {},
   "source": [
    "#### 1. Сохраняем данные в переменную taxi, разделитель — ;.  Приведим столбцы start_at, end_at, arrived_at к формату даты, используя pd.to_datetime(). Фильтруем данные и оставляем наблюдения со статусом заказа \"asap\" и \"reserved\" (start_type)."
   ]
  },
  {
   "cell_type": "code",
   "execution_count": 1,
   "metadata": {},
   "outputs": [],
   "source": [
    "import pandas as pd"
   ]
  },
  {
   "cell_type": "markdown",
   "metadata": {},
   "source": [
    "Импотрируем данные поездок такси в Перу"
   ]
  },
  {
   "cell_type": "code",
   "execution_count": 2,
   "metadata": {},
   "outputs": [],
   "source": [
    "taxi = pd.read_csv('/mnt/HC_Volume_18315164/home-jupyter/jupyter-b-dzhumaeva-37/project_3_python/3_taxi_peru.csv', \n",
    "                 sep = ';')"
   ]
  },
  {
   "cell_type": "code",
   "execution_count": 6,
   "metadata": {},
   "outputs": [],
   "source": [
    "taxi[['start_at', 'arrived_at','end_at']] = taxi[['start_at', 'arrived_at','end_at']].apply(pd.to_datetime)"
   ]
  },
  {
   "cell_type": "code",
   "execution_count": 4,
   "metadata": {},
   "outputs": [],
   "source": [
    "taxi = taxi.query(\"start_type == 'asap' or start_type == 'reserved'\")"
   ]
  },
  {
   "cell_type": "code",
   "execution_count": 5,
   "metadata": {},
   "outputs": [
    {
     "data": {
      "text/html": [
       "<div>\n",
       "<style scoped>\n",
       "    .dataframe tbody tr th:only-of-type {\n",
       "        vertical-align: middle;\n",
       "    }\n",
       "\n",
       "    .dataframe tbody tr th {\n",
       "        vertical-align: top;\n",
       "    }\n",
       "\n",
       "    .dataframe thead th {\n",
       "        text-align: right;\n",
       "    }\n",
       "</style>\n",
       "<table border=\"1\" class=\"dataframe\">\n",
       "  <thead>\n",
       "    <tr style=\"text-align: right;\">\n",
       "      <th></th>\n",
       "      <th>journey_id</th>\n",
       "      <th>user_id</th>\n",
       "      <th>driver_id</th>\n",
       "      <th>taxi_id</th>\n",
       "      <th>icon</th>\n",
       "      <th>start_type</th>\n",
       "      <th>start_at</th>\n",
       "      <th>start_lat</th>\n",
       "      <th>start_lon</th>\n",
       "      <th>end_at</th>\n",
       "      <th>end_lat</th>\n",
       "      <th>end_lon</th>\n",
       "      <th>end_state</th>\n",
       "      <th>driver_start_lat</th>\n",
       "      <th>driver_start_lon</th>\n",
       "      <th>arrived_at</th>\n",
       "      <th>source</th>\n",
       "      <th>driver_score</th>\n",
       "      <th>rider_score</th>\n",
       "    </tr>\n",
       "  </thead>\n",
       "  <tbody>\n",
       "    <tr>\n",
       "      <th>0</th>\n",
       "      <td>23a1406fc6a11d866e3c82f22eed4d4c</td>\n",
       "      <td>0e9af5bbf1edfe591b54ecdfd7e91e26</td>\n",
       "      <td>583949a89a9ee17d19e3ca4f137b6b4c</td>\n",
       "      <td>b12f4f09c783e29fe0d0ea624530db56</td>\n",
       "      <td>executive</td>\n",
       "      <td>asap</td>\n",
       "      <td>2010-11-16 16:44:00</td>\n",
       "      <td>-12,13983536</td>\n",
       "      <td>-77,02355957</td>\n",
       "      <td>2010-11-16 17:29:00</td>\n",
       "      <td>-12,05537033</td>\n",
       "      <td>-77,0413208</td>\n",
       "      <td>drop off</td>\n",
       "      <td>-12,10825481</td>\n",
       "      <td>-77,0272739</td>\n",
       "      <td>2010-11-16 17:02:00</td>\n",
       "      <td>iPhone</td>\n",
       "      <td>5.0</td>\n",
       "      <td>5.0</td>\n",
       "    </tr>\n",
       "    <tr>\n",
       "      <th>1</th>\n",
       "      <td>dd2af4715d0dc16eded53afc0e243577</td>\n",
       "      <td>a553c46e3a22fb9c326aeb3d72b3334e</td>\n",
       "      <td>NaN</td>\n",
       "      <td>NaN</td>\n",
       "      <td>executive</td>\n",
       "      <td>asap</td>\n",
       "      <td>2010-06-01 00:34:00</td>\n",
       "      <td>-12,13874817</td>\n",
       "      <td>-76,99536133</td>\n",
       "      <td>2010-06-01 00:37:00</td>\n",
       "      <td>-12,12465668</td>\n",
       "      <td>-77,02886963</td>\n",
       "      <td>not found</td>\n",
       "      <td>NaN</td>\n",
       "      <td>NaN</td>\n",
       "      <td>NaT</td>\n",
       "      <td>iPhone</td>\n",
       "      <td>NaN</td>\n",
       "      <td>NaN</td>\n",
       "    </tr>\n",
       "    <tr>\n",
       "      <th>2</th>\n",
       "      <td>dd91e131888064bf7df3ce08f3d4b4ad</td>\n",
       "      <td>a553c46e3a22fb9c326aeb3d72b3334e</td>\n",
       "      <td>NaN</td>\n",
       "      <td>NaN</td>\n",
       "      <td>executive</td>\n",
       "      <td>asap</td>\n",
       "      <td>2010-05-31 05:01:00</td>\n",
       "      <td>-12,12453079</td>\n",
       "      <td>-77,02780151</td>\n",
       "      <td>2010-05-31 05:04:00</td>\n",
       "      <td>-12,13883209</td>\n",
       "      <td>-76,99530029</td>\n",
       "      <td>not found</td>\n",
       "      <td>NaN</td>\n",
       "      <td>NaN</td>\n",
       "      <td>NaT</td>\n",
       "      <td>iPhone</td>\n",
       "      <td>NaN</td>\n",
       "      <td>NaN</td>\n",
       "    </tr>\n",
       "    <tr>\n",
       "      <th>3</th>\n",
       "      <td>dd2af4715d0dc16eded53afc0e2466d0</td>\n",
       "      <td>a553c46e3a22fb9c326aeb3d72b3334e</td>\n",
       "      <td>NaN</td>\n",
       "      <td>NaN</td>\n",
       "      <td>executive</td>\n",
       "      <td>asap</td>\n",
       "      <td>2010-06-01 00:29:00</td>\n",
       "      <td>-12,13885117</td>\n",
       "      <td>-76,99530029</td>\n",
       "      <td>2010-06-01 00:32:00</td>\n",
       "      <td>-12,12458801</td>\n",
       "      <td>-77,02896118</td>\n",
       "      <td>not found</td>\n",
       "      <td>NaN</td>\n",
       "      <td>NaN</td>\n",
       "      <td>NaT</td>\n",
       "      <td>iPhone</td>\n",
       "      <td>NaN</td>\n",
       "      <td>NaN</td>\n",
       "    </tr>\n",
       "    <tr>\n",
       "      <th>4</th>\n",
       "      <td>85b7eabcf5d84e42dc7629b7d27781af</td>\n",
       "      <td>56772d544fdfa589a020a1ff894a86f7</td>\n",
       "      <td>d665fb9f75ef5d9cd0fd89479380ba78</td>\n",
       "      <td>0accdd3aa5a322f4129fa20b53278c69</td>\n",
       "      <td>executive</td>\n",
       "      <td>reserved</td>\n",
       "      <td>2010-09-11 23:55:00</td>\n",
       "      <td>-12,08995438</td>\n",
       "      <td>-76,92626953</td>\n",
       "      <td>2010-09-12 01:07:00</td>\n",
       "      <td>-12,02223206</td>\n",
       "      <td>-77,10638428</td>\n",
       "      <td>drop off</td>\n",
       "      <td>-12,08311558</td>\n",
       "      <td>-76,9277072</td>\n",
       "      <td>2010-09-11 23:50:00</td>\n",
       "      <td>iPhone</td>\n",
       "      <td>4.0</td>\n",
       "      <td>5.0</td>\n",
       "    </tr>\n",
       "  </tbody>\n",
       "</table>\n",
       "</div>"
      ],
      "text/plain": [
       "                         journey_id                           user_id  \\\n",
       "0  23a1406fc6a11d866e3c82f22eed4d4c  0e9af5bbf1edfe591b54ecdfd7e91e26   \n",
       "1  dd2af4715d0dc16eded53afc0e243577  a553c46e3a22fb9c326aeb3d72b3334e   \n",
       "2  dd91e131888064bf7df3ce08f3d4b4ad  a553c46e3a22fb9c326aeb3d72b3334e   \n",
       "3  dd2af4715d0dc16eded53afc0e2466d0  a553c46e3a22fb9c326aeb3d72b3334e   \n",
       "4  85b7eabcf5d84e42dc7629b7d27781af  56772d544fdfa589a020a1ff894a86f7   \n",
       "\n",
       "                          driver_id                           taxi_id  \\\n",
       "0  583949a89a9ee17d19e3ca4f137b6b4c  b12f4f09c783e29fe0d0ea624530db56   \n",
       "1                               NaN                               NaN   \n",
       "2                               NaN                               NaN   \n",
       "3                               NaN                               NaN   \n",
       "4  d665fb9f75ef5d9cd0fd89479380ba78  0accdd3aa5a322f4129fa20b53278c69   \n",
       "\n",
       "        icon start_type            start_at     start_lat     start_lon  \\\n",
       "0  executive       asap 2010-11-16 16:44:00  -12,13983536  -77,02355957   \n",
       "1  executive       asap 2010-06-01 00:34:00  -12,13874817  -76,99536133   \n",
       "2  executive       asap 2010-05-31 05:01:00  -12,12453079  -77,02780151   \n",
       "3  executive       asap 2010-06-01 00:29:00  -12,13885117  -76,99530029   \n",
       "4  executive   reserved 2010-09-11 23:55:00  -12,08995438  -76,92626953   \n",
       "\n",
       "               end_at       end_lat       end_lon  end_state driver_start_lat  \\\n",
       "0 2010-11-16 17:29:00  -12,05537033   -77,0413208   drop off     -12,10825481   \n",
       "1 2010-06-01 00:37:00  -12,12465668  -77,02886963  not found              NaN   \n",
       "2 2010-05-31 05:04:00  -12,13883209  -76,99530029  not found              NaN   \n",
       "3 2010-06-01 00:32:00  -12,12458801  -77,02896118  not found              NaN   \n",
       "4 2010-09-12 01:07:00  -12,02223206  -77,10638428   drop off     -12,08311558   \n",
       "\n",
       "  driver_start_lon          arrived_at  source  driver_score  rider_score  \n",
       "0      -77,0272739 2010-11-16 17:02:00  iPhone           5.0          5.0  \n",
       "1              NaN                 NaT  iPhone           NaN          NaN  \n",
       "2              NaN                 NaT  iPhone           NaN          NaN  \n",
       "3              NaN                 NaT  iPhone           NaN          NaN  \n",
       "4      -76,9277072 2010-09-11 23:50:00  iPhone           4.0          5.0  "
      ]
     },
     "execution_count": 5,
     "metadata": {},
     "output_type": "execute_result"
    }
   ],
   "source": [
    "taxi.head()"
   ]
  },
  {
   "cell_type": "markdown",
   "metadata": {},
   "source": [
    " #### 2. Создадим колонку wait_time, в которой будет храниться разница между временем подачи машины (arrived_at) и временем заказа (start_at) в минутах."
   ]
  },
  {
   "cell_type": "code",
   "execution_count": 7,
   "metadata": {},
   "outputs": [],
   "source": [
    "taxi['wait_time'] = taxi.arrived_at - taxi.start_at\n",
    "taxi['wait_time'] = taxi.wait_time.astype('timedelta64[m]')"
   ]
  },
  {
   "cell_type": "markdown",
   "metadata": {},
   "source": [
    "#### 3.Посмотрим, какие водители опаздывали на заказы к определенному времени (start_type == 'reserved'). Опозданием считается время ожидания wait_time > 0.0. Сгруппируем отфильтрованные данные по driver_id и вычислим id водителя, который опоздал на заказ интересующего нас типа наибольшее число раз"
   ]
  },
  {
   "cell_type": "code",
   "execution_count": 9,
   "metadata": {},
   "outputs": [
    {
     "data": {
      "text/html": [
       "<div>\n",
       "<style scoped>\n",
       "    .dataframe tbody tr th:only-of-type {\n",
       "        vertical-align: middle;\n",
       "    }\n",
       "\n",
       "    .dataframe tbody tr th {\n",
       "        vertical-align: top;\n",
       "    }\n",
       "\n",
       "    .dataframe thead th {\n",
       "        text-align: right;\n",
       "    }\n",
       "</style>\n",
       "<table border=\"1\" class=\"dataframe\">\n",
       "  <thead>\n",
       "    <tr style=\"text-align: right;\">\n",
       "      <th></th>\n",
       "      <th>driver_id</th>\n",
       "      <th>wait_time</th>\n",
       "    </tr>\n",
       "  </thead>\n",
       "  <tbody>\n",
       "    <tr>\n",
       "      <th>24</th>\n",
       "      <td>406921adcca37705ef527b4246c0cfea</td>\n",
       "      <td>67</td>\n",
       "    </tr>\n",
       "    <tr>\n",
       "      <th>86</th>\n",
       "      <td>d665fb9f75ef5d9cd0fd89479380ba78</td>\n",
       "      <td>59</td>\n",
       "    </tr>\n",
       "    <tr>\n",
       "      <th>93</th>\n",
       "      <td>ec84a73745199ff840ecafcb924383ad</td>\n",
       "      <td>57</td>\n",
       "    </tr>\n",
       "    <tr>\n",
       "      <th>29</th>\n",
       "      <td>56f59b58bcbbd1cdabc3652e713134c2</td>\n",
       "      <td>51</td>\n",
       "    </tr>\n",
       "    <tr>\n",
       "      <th>77</th>\n",
       "      <td>c814db2127582cf95dea1f74f43127c2</td>\n",
       "      <td>45</td>\n",
       "    </tr>\n",
       "    <tr>\n",
       "      <th>...</th>\n",
       "      <td>...</td>\n",
       "      <td>...</td>\n",
       "    </tr>\n",
       "    <tr>\n",
       "      <th>88</th>\n",
       "      <td>d7bf644eb441cda6127f91addebb85c4</td>\n",
       "      <td>1</td>\n",
       "    </tr>\n",
       "    <tr>\n",
       "      <th>71</th>\n",
       "      <td>b68895736389f2949faa8c73555b81ac</td>\n",
       "      <td>1</td>\n",
       "    </tr>\n",
       "    <tr>\n",
       "      <th>51</th>\n",
       "      <td>8cb98e46b27af1e6fca8768a2a6329f3</td>\n",
       "      <td>1</td>\n",
       "    </tr>\n",
       "    <tr>\n",
       "      <th>16</th>\n",
       "      <td>389bfa333ba8fa7281dd5f0e1b57c0c1</td>\n",
       "      <td>1</td>\n",
       "    </tr>\n",
       "    <tr>\n",
       "      <th>14</th>\n",
       "      <td>358741ec2409c505c4545c38669b000b</td>\n",
       "      <td>1</td>\n",
       "    </tr>\n",
       "  </tbody>\n",
       "</table>\n",
       "<p>105 rows × 2 columns</p>\n",
       "</div>"
      ],
      "text/plain": [
       "                           driver_id  wait_time\n",
       "24  406921adcca37705ef527b4246c0cfea         67\n",
       "86  d665fb9f75ef5d9cd0fd89479380ba78         59\n",
       "93  ec84a73745199ff840ecafcb924383ad         57\n",
       "29  56f59b58bcbbd1cdabc3652e713134c2         51\n",
       "77  c814db2127582cf95dea1f74f43127c2         45\n",
       "..                               ...        ...\n",
       "88  d7bf644eb441cda6127f91addebb85c4          1\n",
       "71  b68895736389f2949faa8c73555b81ac          1\n",
       "51  8cb98e46b27af1e6fca8768a2a6329f3          1\n",
       "16  389bfa333ba8fa7281dd5f0e1b57c0c1          1\n",
       "14  358741ec2409c505c4545c38669b000b          1\n",
       "\n",
       "[105 rows x 2 columns]"
      ]
     },
     "execution_count": 9,
     "metadata": {},
     "output_type": "execute_result"
    }
   ],
   "source": [
    "taxi.query(\"start_type == 'reserved' & wait_time > 0.0\").groupby('driver_id', as_index=False)\\\n",
    "    .agg({'wait_time':'count'}).sort_values('wait_time', ascending=False)"
   ]
  },
  {
   "cell_type": "code",
   "execution_count": 10,
   "metadata": {},
   "outputs": [
    {
     "data": {
      "text/plain": [
       "'406921adcca37705ef527b4246c0cfea'"
      ]
     },
     "execution_count": 10,
     "metadata": {},
     "output_type": "execute_result"
    }
   ],
   "source": [
    "taxi.loc[(taxi.start_type == 'reserved') & (taxi.wait_time > 0)].driver_id.value_counts().idxmax()"
   ]
  },
  {
   "cell_type": "markdown",
   "metadata": {},
   "source": [
    "#### 4. Что может влиять на число опозданий из прошлого задания. "
   ]
  },
  {
   "cell_type": "markdown",
   "metadata": {},
   "source": [
    "##### Гипотеза 1: у него самые долгие поездки, и не получается рассчитывать время (например, стоял в пробке)\n",
    "\n",
    "* Проверим: посчитаем медиану продолжительности поездок по водителям, и посмотрим, войдет ли искомый водитель в топ:"
   ]
  },
  {
   "cell_type": "code",
   "execution_count": 19,
   "metadata": {},
   "outputs": [],
   "source": [
    "taxi['duration'] = taxi.end_at - taxi.start_at\n",
    "taxi['duration'] = taxi.duration.astype('timedelta64[m]')"
   ]
  },
  {
   "cell_type": "code",
   "execution_count": 20,
   "metadata": {},
   "outputs": [
    {
     "data": {
      "text/html": [
       "<div>\n",
       "<style scoped>\n",
       "    .dataframe tbody tr th:only-of-type {\n",
       "        vertical-align: middle;\n",
       "    }\n",
       "\n",
       "    .dataframe tbody tr th {\n",
       "        vertical-align: top;\n",
       "    }\n",
       "\n",
       "    .dataframe thead th {\n",
       "        text-align: right;\n",
       "    }\n",
       "</style>\n",
       "<table border=\"1\" class=\"dataframe\">\n",
       "  <thead>\n",
       "    <tr style=\"text-align: right;\">\n",
       "      <th></th>\n",
       "      <th>driver_id</th>\n",
       "      <th>duration</th>\n",
       "    </tr>\n",
       "  </thead>\n",
       "  <tbody>\n",
       "    <tr>\n",
       "      <th>86</th>\n",
       "      <td>a7b047c6a09ccb85e9980d80ffaadb3d</td>\n",
       "      <td>145.0</td>\n",
       "    </tr>\n",
       "    <tr>\n",
       "      <th>72</th>\n",
       "      <td>86981d5cc39076d9d0281221fe19f3fa</td>\n",
       "      <td>86.0</td>\n",
       "    </tr>\n",
       "    <tr>\n",
       "      <th>2</th>\n",
       "      <td>0fd4a08189ac948f6beaa2d3145c81b6</td>\n",
       "      <td>85.0</td>\n",
       "    </tr>\n",
       "    <tr>\n",
       "      <th>22</th>\n",
       "      <td>2d163dcf6f3e01abf4af5b2a721ec5ac</td>\n",
       "      <td>84.0</td>\n",
       "    </tr>\n",
       "    <tr>\n",
       "      <th>134</th>\n",
       "      <td>f8cd07f929f6884cd5fea893f4da3461</td>\n",
       "      <td>83.0</td>\n",
       "    </tr>\n",
       "    <tr>\n",
       "      <th>...</th>\n",
       "      <td>...</td>\n",
       "      <td>...</td>\n",
       "    </tr>\n",
       "    <tr>\n",
       "      <th>47</th>\n",
       "      <td>587ea1ea1ab415acb010ec8308275095</td>\n",
       "      <td>6.0</td>\n",
       "    </tr>\n",
       "    <tr>\n",
       "      <th>0</th>\n",
       "      <td>031fea9628f9238b051a58808554498a</td>\n",
       "      <td>5.0</td>\n",
       "    </tr>\n",
       "    <tr>\n",
       "      <th>20</th>\n",
       "      <td>2ca81f8112b8c60af222ee2ed7278078</td>\n",
       "      <td>4.0</td>\n",
       "    </tr>\n",
       "    <tr>\n",
       "      <th>5</th>\n",
       "      <td>1238e44402a93366489cbff9884bc267</td>\n",
       "      <td>-4.0</td>\n",
       "    </tr>\n",
       "    <tr>\n",
       "      <th>93</th>\n",
       "      <td>b3ba9cda1b124b4fdc5d639f2417ca3e</td>\n",
       "      <td>-29.0</td>\n",
       "    </tr>\n",
       "  </tbody>\n",
       "</table>\n",
       "<p>144 rows × 2 columns</p>\n",
       "</div>"
      ],
      "text/plain": [
       "                            driver_id  duration\n",
       "86   a7b047c6a09ccb85e9980d80ffaadb3d     145.0\n",
       "72   86981d5cc39076d9d0281221fe19f3fa      86.0\n",
       "2    0fd4a08189ac948f6beaa2d3145c81b6      85.0\n",
       "22   2d163dcf6f3e01abf4af5b2a721ec5ac      84.0\n",
       "134  f8cd07f929f6884cd5fea893f4da3461      83.0\n",
       "..                                ...       ...\n",
       "47   587ea1ea1ab415acb010ec8308275095       6.0\n",
       "0    031fea9628f9238b051a58808554498a       5.0\n",
       "20   2ca81f8112b8c60af222ee2ed7278078       4.0\n",
       "5    1238e44402a93366489cbff9884bc267      -4.0\n",
       "93   b3ba9cda1b124b4fdc5d639f2417ca3e     -29.0\n",
       "\n",
       "[144 rows x 2 columns]"
      ]
     },
     "execution_count": 20,
     "metadata": {},
     "output_type": "execute_result"
    }
   ],
   "source": [
    "taxi.query(\"start_type == 'reserved'\").groupby('driver_id', as_index=False)\\\n",
    "    .agg({'duration':'median'}).sort_values('duration', ascending=False)"
   ]
  },
  {
   "cell_type": "markdown",
   "metadata": {},
   "source": [
    "Здесь искомого айди нет (406921adcca37705ef527b4246c0cfea). Наш водитель не в топ-10, так что гипотезу отбрасываем."
   ]
  },
  {
   "cell_type": "markdown",
   "metadata": {},
   "source": [
    "##### Гипотеза 2: у него в принципе больше всех поездок, поэтому он и опаздывает больше всех \n",
    "* Проверим: найдем топ-5 по числу поездок:"
   ]
  },
  {
   "cell_type": "code",
   "execution_count": 45,
   "metadata": {},
   "outputs": [
    {
     "data": {
      "text/html": [
       "<div>\n",
       "<style scoped>\n",
       "    .dataframe tbody tr th:only-of-type {\n",
       "        vertical-align: middle;\n",
       "    }\n",
       "\n",
       "    .dataframe tbody tr th {\n",
       "        vertical-align: top;\n",
       "    }\n",
       "\n",
       "    .dataframe thead th {\n",
       "        text-align: right;\n",
       "    }\n",
       "</style>\n",
       "<table border=\"1\" class=\"dataframe\">\n",
       "  <thead>\n",
       "    <tr style=\"text-align: right;\">\n",
       "      <th></th>\n",
       "      <th>driver_id</th>\n",
       "      <th>n_journeys</th>\n",
       "    </tr>\n",
       "  </thead>\n",
       "  <tbody>\n",
       "    <tr>\n",
       "      <th>119</th>\n",
       "      <td>d665fb9f75ef5d9cd0fd89479380ba78</td>\n",
       "      <td>579</td>\n",
       "    </tr>\n",
       "    <tr>\n",
       "      <th>109</th>\n",
       "      <td>c814db2127582cf95dea1f74f43127c2</td>\n",
       "      <td>385</td>\n",
       "    </tr>\n",
       "    <tr>\n",
       "      <th>34</th>\n",
       "      <td>406921adcca37705ef527b4246c0cfea</td>\n",
       "      <td>363</td>\n",
       "    </tr>\n",
       "    <tr>\n",
       "      <th>143</th>\n",
       "      <td>ff5c924e0b630fd7c019a4234059fdf4</td>\n",
       "      <td>359</td>\n",
       "    </tr>\n",
       "    <tr>\n",
       "      <th>33</th>\n",
       "      <td>406921adcca37705ef527b4246bbbff5</td>\n",
       "      <td>346</td>\n",
       "    </tr>\n",
       "  </tbody>\n",
       "</table>\n",
       "</div>"
      ],
      "text/plain": [
       "                            driver_id  n_journeys\n",
       "119  d665fb9f75ef5d9cd0fd89479380ba78         579\n",
       "109  c814db2127582cf95dea1f74f43127c2         385\n",
       "34   406921adcca37705ef527b4246c0cfea         363\n",
       "143  ff5c924e0b630fd7c019a4234059fdf4         359\n",
       "33   406921adcca37705ef527b4246bbbff5         346"
      ]
     },
     "execution_count": 45,
     "metadata": {},
     "output_type": "execute_result"
    }
   ],
   "source": [
    "taxi_journeys = taxi.query(\"start_type == 'reserved'\").groupby('driver_id', as_index=False)\\\n",
    "    .agg({'taxi_id':'count'})\\\n",
    "    .rename(columns={\"taxi_id\": \"n_journeys\"}).sort_values('n_journeys', ascending=False)\n",
    "taxi_journeys.head()"
   ]
  },
  {
   "cell_type": "markdown",
   "metadata": {},
   "source": [
    "Наш водитель на 3м месте, но не на 1м. Сравним с топом \"опаздывающих\":"
   ]
  },
  {
   "cell_type": "code",
   "execution_count": 46,
   "metadata": {},
   "outputs": [
    {
     "data": {
      "text/html": [
       "<div>\n",
       "<style scoped>\n",
       "    .dataframe tbody tr th:only-of-type {\n",
       "        vertical-align: middle;\n",
       "    }\n",
       "\n",
       "    .dataframe tbody tr th {\n",
       "        vertical-align: top;\n",
       "    }\n",
       "\n",
       "    .dataframe thead th {\n",
       "        text-align: right;\n",
       "    }\n",
       "</style>\n",
       "<table border=\"1\" class=\"dataframe\">\n",
       "  <thead>\n",
       "    <tr style=\"text-align: right;\">\n",
       "      <th></th>\n",
       "      <th>driver_id</th>\n",
       "      <th>n_lates</th>\n",
       "    </tr>\n",
       "  </thead>\n",
       "  <tbody>\n",
       "    <tr>\n",
       "      <th>24</th>\n",
       "      <td>406921adcca37705ef527b4246c0cfea</td>\n",
       "      <td>67</td>\n",
       "    </tr>\n",
       "    <tr>\n",
       "      <th>86</th>\n",
       "      <td>d665fb9f75ef5d9cd0fd89479380ba78</td>\n",
       "      <td>59</td>\n",
       "    </tr>\n",
       "    <tr>\n",
       "      <th>93</th>\n",
       "      <td>ec84a73745199ff840ecafcb924383ad</td>\n",
       "      <td>57</td>\n",
       "    </tr>\n",
       "    <tr>\n",
       "      <th>29</th>\n",
       "      <td>56f59b58bcbbd1cdabc3652e713134c2</td>\n",
       "      <td>51</td>\n",
       "    </tr>\n",
       "    <tr>\n",
       "      <th>77</th>\n",
       "      <td>c814db2127582cf95dea1f74f43127c2</td>\n",
       "      <td>45</td>\n",
       "    </tr>\n",
       "  </tbody>\n",
       "</table>\n",
       "</div>"
      ],
      "text/plain": [
       "                           driver_id  n_lates\n",
       "24  406921adcca37705ef527b4246c0cfea       67\n",
       "86  d665fb9f75ef5d9cd0fd89479380ba78       59\n",
       "93  ec84a73745199ff840ecafcb924383ad       57\n",
       "29  56f59b58bcbbd1cdabc3652e713134c2       51\n",
       "77  c814db2127582cf95dea1f74f43127c2       45"
      ]
     },
     "execution_count": 46,
     "metadata": {},
     "output_type": "execute_result"
    }
   ],
   "source": [
    "taxi_lates = taxi.query(\"start_type == 'reserved' & wait_time > 0.0\").groupby('driver_id', as_index=False)\\\n",
    "    .agg({'wait_time':'count'})\\\n",
    "    .rename(columns={\"wait_time\": \"n_lates\"}).sort_values('n_lates', ascending=False)\n",
    "taxi_lates.head()"
   ]
  },
  {
   "cell_type": "markdown",
   "metadata": {},
   "source": [
    "Видим, что трое водителей присутствуют в обоих топах. Логично – кто больше ездит, тот больше и опаздывает. Попробуем посмотреть не на абсолютное число опозданий, а на их долю – и там, возможно, наш водитель будет не самым опаздывающим."
   ]
  },
  {
   "cell_type": "code",
   "execution_count": 54,
   "metadata": {},
   "outputs": [],
   "source": [
    "reserved_journeys = taxi_journeys.merge(taxi_lates, on='driver_id')"
   ]
  },
  {
   "cell_type": "code",
   "execution_count": 55,
   "metadata": {},
   "outputs": [],
   "source": [
    "reserved_journeys['late_score'] = (reserved_journeys.n_lates /reserved_journeys.n_journeys).round(2)"
   ]
  },
  {
   "cell_type": "code",
   "execution_count": 56,
   "metadata": {},
   "outputs": [
    {
     "data": {
      "text/html": [
       "<div>\n",
       "<style scoped>\n",
       "    .dataframe tbody tr th:only-of-type {\n",
       "        vertical-align: middle;\n",
       "    }\n",
       "\n",
       "    .dataframe tbody tr th {\n",
       "        vertical-align: top;\n",
       "    }\n",
       "\n",
       "    .dataframe thead th {\n",
       "        text-align: right;\n",
       "    }\n",
       "</style>\n",
       "<table border=\"1\" class=\"dataframe\">\n",
       "  <thead>\n",
       "    <tr style=\"text-align: right;\">\n",
       "      <th></th>\n",
       "      <th>driver_id</th>\n",
       "      <th>n_journeys</th>\n",
       "      <th>n_lates</th>\n",
       "      <th>late_score</th>\n",
       "    </tr>\n",
       "  </thead>\n",
       "  <tbody>\n",
       "    <tr>\n",
       "      <th>2</th>\n",
       "      <td>406921adcca37705ef527b4246c0cfea</td>\n",
       "      <td>363</td>\n",
       "      <td>67</td>\n",
       "      <td>0.18</td>\n",
       "    </tr>\n",
       "    <tr>\n",
       "      <th>0</th>\n",
       "      <td>d665fb9f75ef5d9cd0fd89479380ba78</td>\n",
       "      <td>579</td>\n",
       "      <td>59</td>\n",
       "      <td>0.10</td>\n",
       "    </tr>\n",
       "    <tr>\n",
       "      <th>5</th>\n",
       "      <td>ec84a73745199ff840ecafcb924383ad</td>\n",
       "      <td>330</td>\n",
       "      <td>57</td>\n",
       "      <td>0.17</td>\n",
       "    </tr>\n",
       "    <tr>\n",
       "      <th>14</th>\n",
       "      <td>56f59b58bcbbd1cdabc3652e713134c2</td>\n",
       "      <td>130</td>\n",
       "      <td>51</td>\n",
       "      <td>0.39</td>\n",
       "    </tr>\n",
       "    <tr>\n",
       "      <th>1</th>\n",
       "      <td>c814db2127582cf95dea1f74f43127c2</td>\n",
       "      <td>385</td>\n",
       "      <td>45</td>\n",
       "      <td>0.12</td>\n",
       "    </tr>\n",
       "  </tbody>\n",
       "</table>\n",
       "</div>"
      ],
      "text/plain": [
       "                           driver_id  n_journeys  n_lates  late_score\n",
       "2   406921adcca37705ef527b4246c0cfea         363       67        0.18\n",
       "0   d665fb9f75ef5d9cd0fd89479380ba78         579       59        0.10\n",
       "5   ec84a73745199ff840ecafcb924383ad         330       57        0.17\n",
       "14  56f59b58bcbbd1cdabc3652e713134c2         130       51        0.39\n",
       "1   c814db2127582cf95dea1f74f43127c2         385       45        0.12"
      ]
     },
     "execution_count": 56,
     "metadata": {},
     "output_type": "execute_result"
    }
   ],
   "source": [
    "reserved_journeys.sort_values('n_lates', ascending=False).head(5)"
   ]
  },
  {
   "cell_type": "markdown",
   "metadata": {},
   "source": [
    "Здесь наш водитель на первом месте по доле опозданий – опоздания случились в 67 поездках из 363, или в 18% случаев."
   ]
  },
  {
   "cell_type": "code",
   "execution_count": 57,
   "metadata": {},
   "outputs": [
    {
     "data": {
      "text/plain": [
       "count    105.000000\n",
       "mean       0.219905\n",
       "std        0.167398\n",
       "min        0.020000\n",
       "25%        0.120000\n",
       "50%        0.170000\n",
       "75%        0.260000\n",
       "max        1.000000\n",
       "Name: late_score, dtype: float64"
      ]
     },
     "execution_count": 57,
     "metadata": {},
     "output_type": "execute_result"
    }
   ],
   "source": [
    "reserved_journeys.late_score.describe()"
   ]
  },
  {
   "cell_type": "markdown",
   "metadata": {},
   "source": [
    "Но в целом среди всех водителей он не так плох: около половины водителей опаздывали чаще (медианная доля опозданий 17,4%)"
   ]
  },
  {
   "cell_type": "markdown",
   "metadata": {},
   "source": [
    "Вывод – наш водитель:\n",
    "\n",
    "* один из самых активных (совершает много поездок)\n",
    "* не очень пунктуальный (хоть и не самый)\n",
    "\n",
    "Сойдясь в одной точке, эти факторы вывели его в топ опаздывающих. Будь он чуть пунктуальней, или езди чуть реже – этого бы не случилось.\n",
    "\n",
    "Третим возможным фактором является то, что в топе самых активных водителей рядом с нашим героем оказались самые ответственные люди - их доля опозданий меньше, чем у 75% водителей и с ними просто трудно конкурировать."
   ]
  },
  {
   "cell_type": "markdown",
   "metadata": {},
   "source": [
    "#### 5.Добавим столбец month, где будет храниться номер месяца, в котором был сделан заказ (start_at), и столбец weekday – название дня недели."
   ]
  },
  {
   "cell_type": "code",
   "execution_count": 58,
   "metadata": {},
   "outputs": [
    {
     "data": {
      "text/html": [
       "<div>\n",
       "<style scoped>\n",
       "    .dataframe tbody tr th:only-of-type {\n",
       "        vertical-align: middle;\n",
       "    }\n",
       "\n",
       "    .dataframe tbody tr th {\n",
       "        vertical-align: top;\n",
       "    }\n",
       "\n",
       "    .dataframe thead th {\n",
       "        text-align: right;\n",
       "    }\n",
       "</style>\n",
       "<table border=\"1\" class=\"dataframe\">\n",
       "  <thead>\n",
       "    <tr style=\"text-align: right;\">\n",
       "      <th></th>\n",
       "      <th>start_at</th>\n",
       "      <th>month</th>\n",
       "      <th>weekday</th>\n",
       "    </tr>\n",
       "  </thead>\n",
       "  <tbody>\n",
       "    <tr>\n",
       "      <th>0</th>\n",
       "      <td>2010-11-16 16:44:00</td>\n",
       "      <td>11</td>\n",
       "      <td>Tuesday</td>\n",
       "    </tr>\n",
       "    <tr>\n",
       "      <th>1</th>\n",
       "      <td>2010-06-01 00:34:00</td>\n",
       "      <td>6</td>\n",
       "      <td>Tuesday</td>\n",
       "    </tr>\n",
       "    <tr>\n",
       "      <th>2</th>\n",
       "      <td>2010-05-31 05:01:00</td>\n",
       "      <td>5</td>\n",
       "      <td>Monday</td>\n",
       "    </tr>\n",
       "    <tr>\n",
       "      <th>3</th>\n",
       "      <td>2010-06-01 00:29:00</td>\n",
       "      <td>6</td>\n",
       "      <td>Tuesday</td>\n",
       "    </tr>\n",
       "    <tr>\n",
       "      <th>4</th>\n",
       "      <td>2010-09-11 23:55:00</td>\n",
       "      <td>9</td>\n",
       "      <td>Saturday</td>\n",
       "    </tr>\n",
       "  </tbody>\n",
       "</table>\n",
       "</div>"
      ],
      "text/plain": [
       "             start_at  month   weekday\n",
       "0 2010-11-16 16:44:00     11   Tuesday\n",
       "1 2010-06-01 00:34:00      6   Tuesday\n",
       "2 2010-05-31 05:01:00      5    Monday\n",
       "3 2010-06-01 00:29:00      6   Tuesday\n",
       "4 2010-09-11 23:55:00      9  Saturday"
      ]
     },
     "execution_count": 58,
     "metadata": {},
     "output_type": "execute_result"
    }
   ],
   "source": [
    "taxi['month'] = taxi.start_at.dt.month\n",
    "taxi['weekday'] = taxi.start_at.dt.day_name()\n",
    "taxi[['start_at', 'month', 'weekday']].head()"
   ]
  },
  {
   "cell_type": "markdown",
   "metadata": {},
   "source": [
    "#### 6. Построим график числа заказов по месяцам (month). В какой месяц суммарно поступает меньше всего заказов?"
   ]
  },
  {
   "cell_type": "code",
   "execution_count": 59,
   "metadata": {},
   "outputs": [
    {
     "data": {
      "image/png": "[encoded data removed]",
      "text/plain": [
       "<Figure size 432x288 with 1 Axes>"
      ]
     },
     "metadata": {
      "needs_background": "light"
     },
     "output_type": "display_data"
    }
   ],
   "source": [
    "import seaborn as sns\n",
    "sns.countplot(data=taxi, x='month')\n",
    "sns.despine()"
   ]
  },
  {
   "cell_type": "markdown",
   "metadata": {},
   "source": [
    "#### 7. А теперь – график по дням недели (weekday). В какой день недели суммарно поступает меньше всего заказов?"
   ]
  },
  {
   "cell_type": "code",
   "execution_count": 60,
   "metadata": {},
   "outputs": [
    {
     "data": {
      "image/png": "[encoded data removed]",
      "text/plain": [
       "<Figure size 432x288 with 1 Axes>"
      ]
     },
     "metadata": {
      "needs_background": "light"
     },
     "output_type": "display_data"
    }
   ],
   "source": [
    "order = ['Monday', 'Tuesday', 'Wednesday', 'Thursday', 'Friday', 'Saturday', 'Sunday']\n",
    "ax = sns.countplot(data=taxi, x='weekday', order=order)\n",
    "ax.tick_params(axis='x', rotation=45)"
   ]
  },
  {
   "cell_type": "code",
   "execution_count": 62,
   "metadata": {},
   "outputs": [
    {
     "data": {
      "image/png": "[encoded data removed]",
      "text/plain": [
       "<Figure size 432x288 with 1 Axes>"
      ]
     },
     "metadata": {
      "needs_background": "light"
     },
     "output_type": "display_data"
    }
   ],
   "source": [
    "# второй вариант\n",
    "taxi.weekday = pd.Categorical(taxi.weekday, ordered=True, categories=order)\n",
    "ax = sns.countplot(data=taxi, x='weekday')\n",
    "ax.tick_params(axis='x', rotation=45)"
   ]
  },
  {
   "cell_type": "markdown",
   "metadata": {},
   "source": [
    "#### 8. Посмотрим на метрики DAU, MAU, WAU, показывающих число уникальных пользователей за определённый период\n",
    "Активные пользователи – те, кто воспользовался приложением и сделал хотя бы один заказ за выбранный промежуток времени. Построим график MAU."
   ]
  },
  {
   "cell_type": "code",
   "execution_count": 63,
   "metadata": {},
   "outputs": [
    {
     "data": {
      "text/plain": [
       "month\n",
       "1     102\n",
       "2     110\n",
       "3     162\n",
       "4     253\n",
       "5     275\n",
       "6     309\n",
       "7     318\n",
       "8     377\n",
       "9     416\n",
       "10    437\n",
       "11    504\n",
       "12    569\n",
       "Name: user_id, dtype: int64"
      ]
     },
     "execution_count": 63,
     "metadata": {},
     "output_type": "execute_result"
    }
   ],
   "source": [
    "mau = taxi.groupby('month').user_id.nunique()\n",
    "mau"
   ]
  },
  {
   "cell_type": "code",
   "execution_count": 64,
   "metadata": {},
   "outputs": [
    {
     "data": {
      "image/png": "[encoded data removed]",
      "text/plain": [
       "<Figure size 432x288 with 1 Axes>"
      ]
     },
     "metadata": {
      "needs_background": "light"
     },
     "output_type": "display_data"
    }
   ],
   "source": [
    "sns.lineplot(data=mau, marker='o')\n",
    "sns.despine()"
   ]
  },
  {
   "cell_type": "markdown",
   "metadata": {},
   "source": [
    "В течение всего года число уникальных пользователей увеличивалось.\n",
    "MAU за апрель примерно в 2.5 раза больше, чем за январь"
   ]
  }
 ],
 "metadata": {
  "kernelspec": {
   "display_name": "Python 3",
   "language": "python",
   "name": "python3"
  },
  "language_info": {
   "codemirror_mode": {
    "name": "ipython",
    "version": 3
   },
   "file_extension": ".py",
   "mimetype": "text/x-python",
   "name": "python",
   "nbconvert_exporter": "python",
   "pygments_lexer": "ipython3",
   "version": "3.7.3"
  }
 },
 "nbformat": 4,
 "nbformat_minor": 4
}
