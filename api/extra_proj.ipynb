{
 "cells": [
  {
   "cell_type": "code",
   "execution_count": 1,
   "metadata": {},
   "outputs": [],
   "source": [
    "import requests\n",
    "import pandas as pd\n",
    "import seaborn as sns\n",
    "import matplotlib.pyplot as plt"
   ]
  },
  {
   "cell_type": "markdown",
   "metadata": {},
   "source": [
    "#### 1. Задача – найти все произведения, связанные с подсолнухами. Выполним поиск по слову \"sunflowers\"."
   ]
  },
  {
   "cell_type": "code",
   "execution_count": 2,
   "metadata": {},
   "outputs": [],
   "source": [
    "r = requests.get('https://collectionapi.metmuseum.org/public/collection/v1/search?q=sunflowers')\n",
    "res = r.json()"
   ]
  },
  {
   "cell_type": "markdown",
   "metadata": {},
   "source": [
    "Сохраним id полученных объектов в список sunflower_ids"
   ]
  },
  {
   "cell_type": "code",
   "execution_count": 3,
   "metadata": {},
   "outputs": [],
   "source": [
    "sunflower_ids = res['objectIDs']"
   ]
  },
  {
   "cell_type": "markdown",
   "metadata": {},
   "source": [
    "#### 2. Соберем информацию об этих объектах"
   ]
  },
  {
   "cell_type": "markdown",
   "metadata": {},
   "source": [
    "Выполним запрос для объекта 437980 для проверки"
   ]
  },
  {
   "cell_type": "code",
   "execution_count": 7,
   "metadata": {},
   "outputs": [],
   "source": [
    "r_test = requests.get(f'https://collectionapi.metmuseum.org/public/collection/v1/objects/437980')\n",
    "obj_test = r_test.json()"
   ]
  },
  {
   "cell_type": "code",
   "execution_count": 8,
   "metadata": {},
   "outputs": [
    {
     "data": {
      "text/plain": [
       "{'objectID': 437980,\n",
       " 'isHighlight': False,\n",
       " 'accessionNumber': '49.30',\n",
       " 'accessionYear': '1949',\n",
       " 'isPublicDomain': True,\n",
       " 'primaryImage': 'https://images.metmuseum.org/CRDImages/ep/original/DP130999.jpg',\n",
       " 'primaryImageSmall': 'https://images.metmuseum.org/CRDImages/ep/web-large/DP130999.jpg',\n",
       " 'additionalImages': [],\n",
       " 'constituents': [{'constituentID': 161947,\n",
       "   'role': 'Artist',\n",
       "   'name': 'Vincent van Gogh',\n",
       "   'constituentULAN_URL': 'http://vocab.getty.edu/page/ulan/500115588',\n",
       "   'constituentWikidata_URL': 'https://www.wikidata.org/wiki/Q5582',\n",
       "   'gender': ''}],\n",
       " 'department': 'European Paintings',\n",
       " 'objectName': 'Painting',\n",
       " 'title': 'Cypresses',\n",
       " 'culture': '',\n",
       " 'period': '',\n",
       " 'dynasty': '',\n",
       " 'reign': '',\n",
       " 'portfolio': '',\n",
       " 'artistRole': 'Artist',\n",
       " 'artistPrefix': '',\n",
       " 'artistDisplayName': 'Vincent van Gogh',\n",
       " 'artistDisplayBio': 'Dutch, Zundert 1853–1890 Auvers-sur-Oise',\n",
       " 'artistSuffix': '',\n",
       " 'artistAlphaSort': 'Gogh, Vincent van',\n",
       " 'artistNationality': 'Dutch',\n",
       " 'artistBeginDate': '1853',\n",
       " 'artistEndDate': '1890',\n",
       " 'artistGender': '',\n",
       " 'artistWikidata_URL': 'https://www.wikidata.org/wiki/Q5582',\n",
       " 'artistULAN_URL': 'http://vocab.getty.edu/page/ulan/500115588',\n",
       " 'objectDate': 'June 1889',\n",
       " 'objectBeginDate': 1889,\n",
       " 'objectEndDate': 1889,\n",
       " 'medium': 'Oil on canvas',\n",
       " 'dimensions': '36 3/4 x 29 1/8 in. (93.4 x 74 cm)',\n",
       " 'measurements': [{'elementName': 'Other',\n",
       "   'elementDescription': 'glass',\n",
       "   'elementMeasurements': {'Height': 94.29769, 'Width': 76.517654}},\n",
       "  {'elementName': 'Overall',\n",
       "   'elementDescription': None,\n",
       "   'elementMeasurements': {'Height': 93.4, 'Width': 74}},\n",
       "  {'elementName': 'Frame',\n",
       "   'elementDescription': None,\n",
       "   'elementMeasurements': {'Depth': 10.795,\n",
       "    'Height': 116.2052,\n",
       "    'Width': 96.5202}}],\n",
       " 'creditLine': 'Rogers Fund, 1949',\n",
       " 'geographyType': '',\n",
       " 'city': '',\n",
       " 'state': '',\n",
       " 'county': '',\n",
       " 'country': '',\n",
       " 'region': '',\n",
       " 'subregion': '',\n",
       " 'locale': '',\n",
       " 'locus': '',\n",
       " 'excavation': '',\n",
       " 'river': '',\n",
       " 'classification': 'Paintings',\n",
       " 'rightsAndReproduction': '',\n",
       " 'linkResource': '',\n",
       " 'metadataDate': '2023-06-29T04:56:37.033Z',\n",
       " 'repository': 'Metropolitan Museum of Art, New York, NY',\n",
       " 'objectURL': 'https://www.metmuseum.org/art/collection/search/437980',\n",
       " 'tags': [{'term': 'Landscapes',\n",
       "   'AAT_URL': 'http://vocab.getty.edu/page/aat/300132294',\n",
       "   'Wikidata_URL': 'https://www.wikidata.org/wiki/Q191163'},\n",
       "  {'term': 'Cypresses',\n",
       "   'AAT_URL': 'http://vocab.getty.edu/page/aat/300343641',\n",
       "   'Wikidata_URL': 'https://www.wikidata.org/wiki/Q146911'}],\n",
       " 'objectWikidata_URL': 'https://www.wikidata.org/wiki/Q867510',\n",
       " 'isTimelineWork': True,\n",
       " 'GalleryNumber': '199'}"
      ]
     },
     "execution_count": 8,
     "metadata": {},
     "output_type": "execute_result"
    }
   ],
   "source": [
    "obj_test"
   ]
  },
  {
   "cell_type": "markdown",
   "metadata": {},
   "source": [
    "#### 3. Напишем цикл, с помощью которого будет собрана информация об объектах, которые были получены на 2 шаге. Результаты запишем в датафрейм."
   ]
  },
  {
   "cell_type": "code",
   "execution_count": 9,
   "metadata": {},
   "outputs": [],
   "source": [
    "culture_df = pd.DataFrame({'objectID': [], 'title': [],\n",
    "                           'artistDisplayName': [], 'department': [],\n",
    "                           'objectBeginDate': [], 'objectEndDate': [],\n",
    "                           'period': [], 'objectName': [], 'culture': []})"
   ]
  },
  {
   "cell_type": "code",
   "execution_count": 10,
   "metadata": {},
   "outputs": [
    {
     "name": "stdout",
     "output_type": "stream",
     "text": [
      "Object 696949 is empty.\n",
      "Object 704667 is empty.\n",
      "Object 839296 is empty.\n",
      "Object 841928 is empty.\n",
      "Object 631808 is empty.\n",
      "CPU times: user 3.22 s, sys: 94 ms, total: 3.31 s\n",
      "Wall time: 24.2 s\n"
     ]
    }
   ],
   "source": [
    "%%time\n",
    "for i in sunflower_ids:\n",
    "    r_test = requests.get(f'https://collectionapi.metmuseum.org/public/collection/v1/objects/{i}')\n",
    "    obj_test = r_test.json()\n",
    "    try:\n",
    "        df = pd.DataFrame({c: [obj_test[c]] for c in culture_df.columns})\n",
    "        culture_df = pd.concat([culture_df, df])\n",
    "    except:\n",
    "        print(f'Object {i} is empty.')"
   ]
  },
  {
   "cell_type": "code",
   "execution_count": 11,
   "metadata": {},
   "outputs": [
    {
     "data": {
      "text/html": [
       "<div>\n",
       "<style scoped>\n",
       "    .dataframe tbody tr th:only-of-type {\n",
       "        vertical-align: middle;\n",
       "    }\n",
       "\n",
       "    .dataframe tbody tr th {\n",
       "        vertical-align: top;\n",
       "    }\n",
       "\n",
       "    .dataframe thead th {\n",
       "        text-align: right;\n",
       "    }\n",
       "</style>\n",
       "<table border=\"1\" class=\"dataframe\">\n",
       "  <thead>\n",
       "    <tr style=\"text-align: right;\">\n",
       "      <th></th>\n",
       "      <th>objectID</th>\n",
       "      <th>title</th>\n",
       "      <th>artistDisplayName</th>\n",
       "      <th>department</th>\n",
       "      <th>objectBeginDate</th>\n",
       "      <th>objectEndDate</th>\n",
       "      <th>period</th>\n",
       "      <th>objectName</th>\n",
       "      <th>culture</th>\n",
       "    </tr>\n",
       "  </thead>\n",
       "  <tbody>\n",
       "    <tr>\n",
       "      <th>0</th>\n",
       "      <td>436524.0</td>\n",
       "      <td>Sunflowers</td>\n",
       "      <td>Vincent van Gogh</td>\n",
       "      <td>European Paintings</td>\n",
       "      <td>1887.0</td>\n",
       "      <td>1887.0</td>\n",
       "      <td></td>\n",
       "      <td>Painting</td>\n",
       "      <td></td>\n",
       "    </tr>\n",
       "    <tr>\n",
       "      <th>0</th>\n",
       "      <td>484935.0</td>\n",
       "      <td>Sunflowers</td>\n",
       "      <td>Edward McKnight Kauffer</td>\n",
       "      <td>Modern and Contemporary Art</td>\n",
       "      <td>1921.0</td>\n",
       "      <td>1921.0</td>\n",
       "      <td></td>\n",
       "      <td>Painting</td>\n",
       "      <td></td>\n",
       "    </tr>\n",
       "    <tr>\n",
       "      <th>0</th>\n",
       "      <td>437112.0</td>\n",
       "      <td>Bouquet of Sunflowers</td>\n",
       "      <td>Claude Monet</td>\n",
       "      <td>European Paintings</td>\n",
       "      <td>1881.0</td>\n",
       "      <td>1881.0</td>\n",
       "      <td></td>\n",
       "      <td>Painting</td>\n",
       "      <td></td>\n",
       "    </tr>\n",
       "    <tr>\n",
       "      <th>0</th>\n",
       "      <td>210191.0</td>\n",
       "      <td>Vase with sunflowers</td>\n",
       "      <td>Rozenburg Plateelfabriek</td>\n",
       "      <td>European Sculpture and Decorative Arts</td>\n",
       "      <td>1896.0</td>\n",
       "      <td>1896.0</td>\n",
       "      <td></td>\n",
       "      <td>Vase</td>\n",
       "      <td></td>\n",
       "    </tr>\n",
       "    <tr>\n",
       "      <th>0</th>\n",
       "      <td>431264.0</td>\n",
       "      <td>Sunflowers</td>\n",
       "      <td>Lily Converse</td>\n",
       "      <td>Drawings and Prints</td>\n",
       "      <td>1941.0</td>\n",
       "      <td>1941.0</td>\n",
       "      <td></td>\n",
       "      <td>Print</td>\n",
       "      <td></td>\n",
       "    </tr>\n",
       "  </tbody>\n",
       "</table>\n",
       "</div>"
      ],
      "text/plain": [
       "   objectID                  title         artistDisplayName  \\\n",
       "0  436524.0             Sunflowers          Vincent van Gogh   \n",
       "0  484935.0             Sunflowers   Edward McKnight Kauffer   \n",
       "0  437112.0  Bouquet of Sunflowers              Claude Monet   \n",
       "0  210191.0   Vase with sunflowers  Rozenburg Plateelfabriek   \n",
       "0  431264.0             Sunflowers             Lily Converse   \n",
       "\n",
       "                               department  objectBeginDate  objectEndDate  \\\n",
       "0                      European Paintings           1887.0         1887.0   \n",
       "0             Modern and Contemporary Art           1921.0         1921.0   \n",
       "0                      European Paintings           1881.0         1881.0   \n",
       "0  European Sculpture and Decorative Arts           1896.0         1896.0   \n",
       "0                     Drawings and Prints           1941.0         1941.0   \n",
       "\n",
       "  period objectName culture  \n",
       "0          Painting          \n",
       "0          Painting          \n",
       "0          Painting          \n",
       "0              Vase          \n",
       "0             Print          "
      ]
     },
     "execution_count": 11,
     "metadata": {},
     "output_type": "execute_result"
    }
   ],
   "source": [
    "culture_df.head()"
   ]
  },
  {
   "cell_type": "markdown",
   "metadata": {},
   "source": [
    "#### 4. Выполним поисковый запрос для департамента \"Asian art\" (departmentId = 6) с тегом \"cat\" и запишем id объектов в cat_ids. Используя цикл из шага 3, чтобы получить данные о первой 1000 объектов из списка."
   ]
  },
  {
   "cell_type": "code",
   "execution_count": 12,
   "metadata": {},
   "outputs": [],
   "source": [
    "r = requests.get('https://collectionapi.metmuseum.org/public/collection/v1/search?departmentId=6&q=cat')\n",
    "cats = r.json()"
   ]
  },
  {
   "cell_type": "code",
   "execution_count": 13,
   "metadata": {},
   "outputs": [],
   "source": [
    "cat_ids = cats['objectIDs']"
   ]
  },
  {
   "cell_type": "code",
   "execution_count": 14,
   "metadata": {},
   "outputs": [],
   "source": [
    "cats_df = pd.DataFrame({'objectID': [], 'title': [],\n",
    "                           'artistDisplayName': [], 'department': [],\n",
    "                           'objectBeginDate': [], 'objectEndDate': [],\n",
    "                           'period': [], 'objectName': [], 'culture': []})"
   ]
  },
  {
   "cell_type": "code",
   "execution_count": 15,
   "metadata": {},
   "outputs": [
    {
     "name": "stdout",
     "output_type": "stream",
     "text": [
      "CPU times: user 1min 15s, sys: 2.77 s, total: 1min 18s\n",
      "Wall time: 7min 35s\n"
     ]
    }
   ],
   "source": [
    "%%time\n",
    "for i in cat_ids[1000:]:\n",
    "    c_test = requests.get(f'https://collectionapi.metmuseum.org/public/collection/v1/objects/{i}')\n",
    "    objc_test = c_test.json()\n",
    "    try:\n",
    "        df3 = pd.DataFrame({c: [objc_test[c]] for c in cats_df.columns})\n",
    "        cats_df = pd.concat([cats_df, df3])\n",
    "    except:\n",
    "        print(f'Object {i} is empty.')"
   ]
  },
  {
   "cell_type": "code",
   "execution_count": 16,
   "metadata": {},
   "outputs": [
    {
     "data": {
      "text/html": [
       "<div>\n",
       "<style scoped>\n",
       "    .dataframe tbody tr th:only-of-type {\n",
       "        vertical-align: middle;\n",
       "    }\n",
       "\n",
       "    .dataframe tbody tr th {\n",
       "        vertical-align: top;\n",
       "    }\n",
       "\n",
       "    .dataframe thead th {\n",
       "        text-align: right;\n",
       "    }\n",
       "</style>\n",
       "<table border=\"1\" class=\"dataframe\">\n",
       "  <thead>\n",
       "    <tr style=\"text-align: right;\">\n",
       "      <th></th>\n",
       "      <th>objectID</th>\n",
       "      <th>title</th>\n",
       "      <th>artistDisplayName</th>\n",
       "      <th>department</th>\n",
       "      <th>objectBeginDate</th>\n",
       "      <th>objectEndDate</th>\n",
       "      <th>period</th>\n",
       "      <th>objectName</th>\n",
       "      <th>culture</th>\n",
       "    </tr>\n",
       "  </thead>\n",
       "  <tbody>\n",
       "    <tr>\n",
       "      <th>0</th>\n",
       "      <td>47150.0</td>\n",
       "      <td>Covered censer In form of Shishi</td>\n",
       "      <td></td>\n",
       "      <td>Asian Art</td>\n",
       "      <td>1780.0</td>\n",
       "      <td>1780.0</td>\n",
       "      <td>Edo period (1615–1868)</td>\n",
       "      <td>Covered censer</td>\n",
       "      <td>Japan</td>\n",
       "    </tr>\n",
       "    <tr>\n",
       "      <th>0</th>\n",
       "      <td>47261.0</td>\n",
       "      <td>Figure of a Cow</td>\n",
       "      <td></td>\n",
       "      <td>Asian Art</td>\n",
       "      <td>1830.0</td>\n",
       "      <td>1830.0</td>\n",
       "      <td>Edo period (1615–1868)</td>\n",
       "      <td>Figure</td>\n",
       "      <td>Japan</td>\n",
       "    </tr>\n",
       "    <tr>\n",
       "      <th>0</th>\n",
       "      <td>47141.0</td>\n",
       "      <td>Covered bowl</td>\n",
       "      <td></td>\n",
       "      <td>Asian Art</td>\n",
       "      <td>1750.0</td>\n",
       "      <td>1750.0</td>\n",
       "      <td>Edo period (1615–1868)</td>\n",
       "      <td>Covered bowl</td>\n",
       "      <td>Japan</td>\n",
       "    </tr>\n",
       "    <tr>\n",
       "      <th>0</th>\n",
       "      <td>47180.0</td>\n",
       "      <td>Plate</td>\n",
       "      <td></td>\n",
       "      <td>Asian Art</td>\n",
       "      <td>1800.0</td>\n",
       "      <td>1800.0</td>\n",
       "      <td>Edo period (1615–1868)</td>\n",
       "      <td>Plate</td>\n",
       "      <td>Japan</td>\n",
       "    </tr>\n",
       "    <tr>\n",
       "      <th>0</th>\n",
       "      <td>47304.0</td>\n",
       "      <td>Bowl</td>\n",
       "      <td></td>\n",
       "      <td>Asian Art</td>\n",
       "      <td>1780.0</td>\n",
       "      <td>1780.0</td>\n",
       "      <td>Edo period (1615–1868)</td>\n",
       "      <td>Bowl</td>\n",
       "      <td>Japan</td>\n",
       "    </tr>\n",
       "  </tbody>\n",
       "</table>\n",
       "</div>"
      ],
      "text/plain": [
       "   objectID                             title artistDisplayName department  \\\n",
       "0   47150.0  Covered censer In form of Shishi                    Asian Art   \n",
       "0   47261.0                   Figure of a Cow                    Asian Art   \n",
       "0   47141.0                      Covered bowl                    Asian Art   \n",
       "0   47180.0                             Plate                    Asian Art   \n",
       "0   47304.0                              Bowl                    Asian Art   \n",
       "\n",
       "   objectBeginDate  objectEndDate                  period      objectName  \\\n",
       "0           1780.0         1780.0  Edo period (1615–1868)  Covered censer   \n",
       "0           1830.0         1830.0  Edo period (1615–1868)          Figure   \n",
       "0           1750.0         1750.0  Edo period (1615–1868)    Covered bowl   \n",
       "0           1800.0         1800.0  Edo period (1615–1868)           Plate   \n",
       "0           1780.0         1780.0  Edo period (1615–1868)            Bowl   \n",
       "\n",
       "  culture  \n",
       "0   Japan  \n",
       "0   Japan  \n",
       "0   Japan  \n",
       "0   Japan  \n",
       "0   Japan  "
      ]
     },
     "execution_count": 16,
     "metadata": {},
     "output_type": "execute_result"
    }
   ],
   "source": [
    "cats_df.head()"
   ]
  },
  {
   "cell_type": "code",
   "execution_count": 17,
   "metadata": {},
   "outputs": [
    {
     "data": {
      "text/html": [
       "<div>\n",
       "<style scoped>\n",
       "    .dataframe tbody tr th:only-of-type {\n",
       "        vertical-align: middle;\n",
       "    }\n",
       "\n",
       "    .dataframe tbody tr th {\n",
       "        vertical-align: top;\n",
       "    }\n",
       "\n",
       "    .dataframe thead th {\n",
       "        text-align: right;\n",
       "    }\n",
       "</style>\n",
       "<table border=\"1\" class=\"dataframe\">\n",
       "  <thead>\n",
       "    <tr style=\"text-align: right;\">\n",
       "      <th></th>\n",
       "      <th>period</th>\n",
       "      <th>objectID</th>\n",
       "    </tr>\n",
       "  </thead>\n",
       "  <tbody>\n",
       "    <tr>\n",
       "      <th>17</th>\n",
       "      <td>Edo period (1615–1868)</td>\n",
       "      <td>95935991.0</td>\n",
       "    </tr>\n",
       "    <tr>\n",
       "      <th>0</th>\n",
       "      <td></td>\n",
       "      <td>55498593.0</td>\n",
       "    </tr>\n",
       "    <tr>\n",
       "      <th>56</th>\n",
       "      <td>Ming dynasty (1368–1644)</td>\n",
       "      <td>10370877.0</td>\n",
       "    </tr>\n",
       "    <tr>\n",
       "      <th>78</th>\n",
       "      <td>Muromachi period (1392–1573)</td>\n",
       "      <td>7275851.0</td>\n",
       "    </tr>\n",
       "    <tr>\n",
       "      <th>28</th>\n",
       "      <td>Heisei period (1989–2019)</td>\n",
       "      <td>6767324.0</td>\n",
       "    </tr>\n",
       "    <tr>\n",
       "      <th>...</th>\n",
       "      <td>...</td>\n",
       "      <td>...</td>\n",
       "    </tr>\n",
       "    <tr>\n",
       "      <th>52</th>\n",
       "      <td>Ming (1368–1644) and Qing (1644–1911) dynasties</td>\n",
       "      <td>37396.0</td>\n",
       "    </tr>\n",
       "    <tr>\n",
       "      <th>76</th>\n",
       "      <td>Muromachi (1392–1573) or Momoyama period (1573...</td>\n",
       "      <td>36110.0</td>\n",
       "    </tr>\n",
       "    <tr>\n",
       "      <th>107</th>\n",
       "      <td>Song dynasty (960–1279</td>\n",
       "      <td>36064.0</td>\n",
       "    </tr>\n",
       "    <tr>\n",
       "      <th>110</th>\n",
       "      <td>Southern Song (1127–1279) or Yuan (1271–1368) ...</td>\n",
       "      <td>36033.0</td>\n",
       "    </tr>\n",
       "    <tr>\n",
       "      <th>58</th>\n",
       "      <td>Ming dynasty (1368–1644) or later</td>\n",
       "      <td>35979.0</td>\n",
       "    </tr>\n",
       "  </tbody>\n",
       "</table>\n",
       "<p>155 rows × 2 columns</p>\n",
       "</div>"
      ],
      "text/plain": [
       "                                                period    objectID\n",
       "17                              Edo period (1615–1868)  95935991.0\n",
       "0                                                       55498593.0\n",
       "56                            Ming dynasty (1368–1644)  10370877.0\n",
       "78                        Muromachi period (1392–1573)   7275851.0\n",
       "28                           Heisei period (1989–2019)   6767324.0\n",
       "..                                                 ...         ...\n",
       "52     Ming (1368–1644) and Qing (1644–1911) dynasties     37396.0\n",
       "76   Muromachi (1392–1573) or Momoyama period (1573...     36110.0\n",
       "107                             Song dynasty (960–1279     36064.0\n",
       "110  Southern Song (1127–1279) or Yuan (1271–1368) ...     36033.0\n",
       "58                   Ming dynasty (1368–1644) or later     35979.0\n",
       "\n",
       "[155 rows x 2 columns]"
      ]
     },
     "execution_count": 17,
     "metadata": {},
     "output_type": "execute_result"
    }
   ],
   "source": [
    "cats_df.groupby('period', as_index=False)\\\n",
    "    .agg({'objectID':'sum'})\\\n",
    "    .sort_values('objectID', ascending=False)"
   ]
  },
  {
   "cell_type": "markdown",
   "metadata": {},
   "source": [
    "В Edo period (1615–1868) было выполнено наибольшее количество работ"
   ]
  }
 ],
 "metadata": {
  "kernelspec": {
   "display_name": "Python 3",
   "language": "python",
   "name": "python3"
  },
  "language_info": {
   "codemirror_mode": {
    "name": "ipython",
    "version": 3
   },
   "file_extension": ".py",
   "mimetype": "text/x-python",
   "name": "python",
   "nbconvert_exporter": "python",
   "pygments_lexer": "ipython3",
   "version": "3.7.3"
  }
 },
 "nbformat": 4,
 "nbformat_minor": 4
}
